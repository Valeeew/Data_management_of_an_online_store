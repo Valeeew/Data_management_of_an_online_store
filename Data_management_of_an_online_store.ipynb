{
  "nbformat": 4,
  "nbformat_minor": 0,
  "metadata": {
    "colab": {
      "name": "Data_management_of_an_online_store.ipynb",
      "provenance": [],
      "collapsed_sections": [],
      "mount_file_id": "1dwVFN0594aSoB4oDt8fs4PFTGFq-spGd",
      "authorship_tag": "ABX9TyMerk3hEUDQ+rzrs4oOLHKY",
      "include_colab_link": true
    },
    "kernelspec": {
      "name": "python3",
      "display_name": "Python 3"
    },
    "language_info": {
      "name": "python"
    }
  },
  "cells": [
    {
      "cell_type": "markdown",
      "metadata": {
        "id": "view-in-github",
        "colab_type": "text"
      },
      "source": [
        "<a href=\"https://colab.research.google.com/github/Valeeew/Data_management_of_an_online_store/blob/master/Data_management_of_an_online_store.ipynb\" target=\"_parent\"><img src=\"https://colab.research.google.com/assets/colab-badge.svg\" alt=\"Open In Colab\"/></a>"
      ]
    },
    {
      "cell_type": "markdown",
      "source": [
        "# Management & Optimisation d'une boutique en ligne\n",
        "## Par Valentin MONTEIRO \n",
        "---\n",
        "### Sommaire\n",
        "> ### IMPORT\n",
        "- [Import des library](#scrollTo=tAgUgPb2dUt3&line=1&uniqifier=1)\n",
        "- [Import des DATA](#scrollTo=LGGkJyQgd2Vc&line=3&uniqifier=1)\n",
        "- Traitement des DATA\n",
        ">> - [df_web](#scrollTo=THwlX1u91f2t&line=4&uniqifier=1)\n",
        ">> - [df_liaison](#scrollTo=ykl7KSWzVFsA&line=1&uniqifier=1)❓\n",
        "- [Lexique des données](#scrollTo=oG89DAzeosCW&line=1&uniqifier=1)\n",
        "\n",
        "> ### Objectifs\n",
        "- [Objectifs](#scrollTo=zVQGfyVrRI86&line=15&uniqifier=1)\n",
        "\n",
        "> ### Code\n",
        ">> - [Rapprocher les 2 exports](#scrollTo=VpQfY-tkWMYh&line=2&uniqifier=1)\n",
        ">> - [Calcul CA (turnover) par produit](#scrollTo=nGntr2d-xQYs&line=1&uniqifier=1)\n",
        ">> - [Calcul du CA (turnover) des ventes en ligne](#scrollTo=dwOAg5jrtGl2&line=1&uniqifier=1)\n",
        "\n"
      ],
      "metadata": {
        "id": "0OJV1Wwle0mW"
      }
    },
    {
      "cell_type": "markdown",
      "source": [
        "## IMPORT"
      ],
      "metadata": {
        "id": "eTEr3fFai_Vb"
      }
    },
    {
      "cell_type": "markdown",
      "source": [
        "---\n",
        "> ### Import des Libraries\n",
        "---\n",
        "\n"
      ],
      "metadata": {
        "id": "GwyznVc0hr3T"
      }
    },
    {
      "cell_type": "code",
      "source": [
        "import pandas as pd\n",
        "import matplotlib.pyplot as plt"
      ],
      "metadata": {
        "id": "tAgUgPb2dUt3"
      },
      "execution_count": 1,
      "outputs": []
    },
    {
      "cell_type": "markdown",
      "source": [
        "---\n",
        "> ### Import des DATA from Github\n",
        "---\n",
        "\n",
        "\n"
      ],
      "metadata": {
        "id": "3w9KiwHLl4xR"
      }
    },
    {
      "cell_type": "code",
      "source": [
        "# Clone the entire repo & import DATA\n",
        "!git clone -l -s git://github.com/Valeeew/Data_management_of_an_online_store cloned-repo\n",
        "%cd cloned-repo\n",
        "!ls\n",
        "\n",
        "# Enregistrement des DATA dans les DATAframe\n",
        "df_erp = pd.read_excel(\"erp.xlsx\")\n",
        "df_liaison = pd.read_excel(\"liaison.xlsx\")\n",
        "df_web = pd.read_excel(\"web.xlsx\")"
      ],
      "metadata": {
        "colab": {
          "base_uri": "https://localhost:8080/"
        },
        "id": "LGGkJyQgd2Vc",
        "outputId": "6978f48b-d98c-4268-d707-68014db7cf6e"
      },
      "execution_count": 2,
      "outputs": [
        {
          "output_type": "stream",
          "name": "stdout",
          "text": [
            "Cloning into 'cloned-repo'...\n",
            "warning: --local is ignored\n",
            "remote: Enumerating objects: 21, done.\u001b[K\n",
            "remote: Counting objects: 100% (21/21), done.\u001b[K\n",
            "remote: Compressing objects: 100% (20/20), done.\u001b[K\n",
            "remote: Total 21 (delta 11), reused 4 (delta 1), pack-reused 0\u001b[K\n",
            "Receiving objects: 100% (21/21), 349.42 KiB | 1.23 MiB/s, done.\n",
            "Resolving deltas: 100% (11/11), done.\n",
            "/content/cloned-repo\n",
            "Data_management_of_an_online_store.ipynb  erp.xlsx  liaison.xlsx  web.xlsx\n"
          ]
        }
      ]
    },
    {
      "cell_type": "markdown",
      "source": [
        "---\n",
        "> ### Traitement des DATA\n",
        "---\n",
        "\n",
        "\n"
      ],
      "metadata": {
        "id": "gWgr8IqLtxSJ"
      }
    },
    {
      "cell_type": "markdown",
      "source": [
        "#### df_web"
      ],
      "metadata": {
        "id": "wdQhhYS1U2DM"
      }
    },
    {
      "cell_type": "code",
      "source": [
        "# Traitement des données web inutiles\n",
        "df_web = df_web.drop([\"virtual\",\"downloadable\",\"rating_count\",\"average_rating\",\"tax_class\",\"post_content\",\"comment_status\",\"ping_status\",\"post_password\",\"post_content_filtered\",\"post_parent\",\"menu_order\",\"comment_count\"], axis = 1)\n",
        "# Remplacement des données NaN dans df_web.total_sales\n",
        "df_web.total_sales = df_web.total_sales.fillna(0)\n",
        "# Remplacement des données tax_status ➡️ taxable = 1 et Nan = 0\n",
        "df_web = df_web[df_web.tax_status.notnull()]\n",
        "#df_web.tax_status = df_web.tax_status.replace(\"taxable\",1)"
      ],
      "metadata": {
        "id": "THwlX1u91f2t"
      },
      "execution_count": 3,
      "outputs": []
    },
    {
      "cell_type": "markdown",
      "source": [
        "#### df_liaison"
      ],
      "metadata": {
        "id": "q0qUljylU9O1"
      }
    },
    {
      "cell_type": "code",
      "source": [
        "#Suppression des valeurs NaN dans id_web ❓\n",
        "#df_liaison = df_liaison[df_liaison.id_web.notnull()]"
      ],
      "metadata": {
        "id": "ykl7KSWzVFsA"
      },
      "execution_count": 4,
      "outputs": []
    },
    {
      "cell_type": "markdown",
      "source": [
        "---\n",
        "> ### Lexique des données\n",
        "---\n",
        "\n",
        "\n",
        "\n"
      ],
      "metadata": {
        "id": "oG89DAzeosCW"
      }
    },
    {
      "cell_type": "markdown",
      "source": [
        "#### df_erp\n",
        "\n",
        "| Variable | Description | Type | PK |\n",
        "| :--------------- |:---------------| :-----| :---|\n",
        "| product_id | références produit | int | ✅ |\n",
        "| onsale_web | vendu en ligne | boolean ||\n",
        "| price | prix de vente | float ||\n",
        "| stock_quantity | quantité dans le stock | int ||\n",
        "|stock_status | État de stock | str ||\n",
        "\n",
        "#### df_web\n",
        "\n",
        "| Variable | Description | Type | PK |\n",
        "| :--------------- |:---------------| :-----| :---|\n",
        "| sku | références produit | int | ✅ |\n",
        "| total_sales | nombre de vente | Int ||\n",
        "| tax_status | produit taxable ou non | Boolean ||\n",
        "| post_author | auteur de l'article | int ||\n",
        "| post_date | Date de publication | date ||\n",
        "| post_date_gmt | Date de publication h GMT| date ||\n",
        "| post_title | titre de l'article | str ||\n",
        "| post_excerpt | description de l'article | str ||\n",
        "| post_status | statut de l'article | str ||\n",
        "| post_name | Nom de l'article | str ||\n",
        "| post_modified | Date dernière MAJ | date ||\n",
        "| post_modified_gmt | Date dernière MAJ h GMT | date ||\n",
        "| guid | lien | str ||\n",
        "| post_type | type de l'article | str ||\n",
        "| post_mime_type | Chemin de l'image | str ||"
      ],
      "metadata": {
        "id": "mf8VrEjXyfDT"
      }
    },
    {
      "cell_type": "markdown",
      "source": [
        "---\n",
        "> ### Objectifs\n",
        "---"
      ],
      "metadata": {
        "id": "Png2fUGNzHuh"
      }
    },
    {
      "cell_type": "markdown",
      "source": [
        "- Rapprocher les 2 exports\n",
        "- Chiffre d’affaires par produit\n",
        "- Total du chiffre d’affaires réalisé en ligne.\n",
        "- Analyser la variable price\n",
        "- - Détecter d’éventuelles valeurs aberrantes\n",
        "- - Lister les valeur aberrantes \n",
        "- - Faire une représentation graphique"
      ],
      "metadata": {
        "id": "zVQGfyVrRI86"
      }
    },
    {
      "cell_type": "markdown",
      "source": [
        "---\n",
        "> ### Code\n",
        "---"
      ],
      "metadata": {
        "id": "yjP90-Fe0RPf"
      }
    },
    {
      "cell_type": "markdown",
      "source": [
        "---\n",
        ">#### Rapprocher les 2 exports\n",
        "---"
      ],
      "metadata": {
        "id": "rPtCtg1jbVi0"
      }
    },
    {
      "cell_type": "code",
      "source": [
        "# Merge df_erp & df_liaison\n",
        "df_erp_liaison = df_erp.merge(df_liaison, how=\"inner\", right_on=\"product_id\", left_on=\"product_id\")\n",
        "# Merge df_erp_liaison & df_web\n",
        "df_bottleneck = df_erp_liaison.merge(df_web, how=\"inner\", right_on=\"sku\", left_on=\"id_web\")"
      ],
      "metadata": {
        "id": "VpQfY-tkWMYh"
      },
      "execution_count": 5,
      "outputs": []
    },
    {
      "cell_type": "markdown",
      "source": [
        "---\n",
        ">#### Calcul du CA (turnover) produit\n",
        "---"
      ],
      "metadata": {
        "id": "UmxGQZJMbmPX"
      }
    },
    {
      "cell_type": "code",
      "source": [
        "df_bottleneck[\"turnover\"] = df_bottleneck.price * df_bottleneck.total_sales"
      ],
      "metadata": {
        "id": "nGntr2d-xQYs"
      },
      "execution_count": 6,
      "outputs": []
    },
    {
      "cell_type": "markdown",
      "source": [
        "---\n",
        "> #### Calcul du CA (turnover) des vente en ligne\n",
        "---"
      ],
      "metadata": {
        "id": "Z-BSM-uD0CZP"
      }
    },
    {
      "cell_type": "code",
      "source": [
        "df_bottleneck_online = df_bottleneck[(df_bottleneck.onsale_web == 1) == True]\n",
        "turnover_online = df_bottleneck_online.turnover.sum()"
      ],
      "metadata": {
        "colab": {
          "base_uri": "https://localhost:8080/"
        },
        "id": "dwOAg5jrtGl2",
        "outputId": "2bf7370b-3159-4d04-a06f-ffbf74b64aab"
      },
      "execution_count": 22,
      "outputs": [
        {
          "output_type": "execute_result",
          "data": {
            "text/plain": [
              "70568.6"
            ]
          },
          "metadata": {},
          "execution_count": 22
        }
      ]
    },
    {
      "cell_type": "code",
      "source": [
        "repartition_des_prix = df_bottleneck.price.value_counts()\n",
        "prix = df_bottleneck.price.unique()\n",
        "fig = plt.figure(figsize=(12,9))\n",
        "ax = fig.add_axes([0.15,0.15,0.75,0.75])\n",
        "ax.bar(prix, repartition_des_prix)\n",
        "\n",
        "plt.show(fig)\n",
        "repartition_des_prix"
      ],
      "metadata": {
        "colab": {
          "base_uri": "https://localhost:8080/",
          "height": 742
        },
        "id": "5XuD8uES_19X",
        "outputId": "51a5823b-1209-48ad-ded4-4cba27c9a606"
      },
      "execution_count": 37,
      "outputs": [
        {
          "output_type": "display_data",
          "data": {
            "image/png": "[encoded data removed]",
            "text/plain": [
              "<Figure size 864x648 with 1 Axes>"
            ]
          },
          "metadata": {
            "needs_background": "light"
          }
        },
        {
          "output_type": "execute_result",
          "data": {
            "text/plain": [
              "45.0    28\n",
              "31.0    25\n",
              "40.0    15\n",
              "21.0    10\n",
              "30.0    10\n",
              "        ..\n",
              "17.3     1\n",
              "18.1     1\n",
              "13.9     1\n",
              "30.1     1\n",
              "34.4     1\n",
              "Name: price, Length: 377, dtype: int64"
            ]
          },
          "metadata": {},
          "execution_count": 37
        }
      ]
    },
    {
      "cell_type": "code",
      "source": [
        "df_bottleneck"
      ],
      "metadata": {
        "colab": {
          "base_uri": "https://localhost:8080/",
          "height": 1000
        },
        "id": "QTCiMWNaA7Nm",
        "outputId": "77ab977b-f53c-4cb6-fb8b-bba7b48a15af"
      },
      "execution_count": 28,
      "outputs": [
        {
          "output_type": "execute_result",
          "data": {
            "text/html": [
              "\n",
              "  <div id=\"df-22e2ea79-1e19-4ae8-bce5-05d9b9c8fd3d\">\n",
              "    <div class=\"colab-df-container\">\n",
              "      <div>\n",
              "<style scoped>\n",
              "    .dataframe tbody tr th:only-of-type {\n",
              "        vertical-align: middle;\n",
              "    }\n",
              "\n",
              "    .dataframe tbody tr th {\n",
              "        vertical-align: top;\n",
              "    }\n",
              "\n",
              "    .dataframe thead th {\n",
              "        text-align: right;\n",
              "    }\n",
              "</style>\n",
              "<table border=\"1\" class=\"dataframe\">\n",
              "  <thead>\n",
              "    <tr style=\"text-align: right;\">\n",
              "      <th></th>\n",
              "      <th>product_id</th>\n",
              "      <th>onsale_web</th>\n",
              "      <th>price</th>\n",
              "      <th>stock_quantity</th>\n",
              "      <th>stock_status</th>\n",
              "      <th>id_web</th>\n",
              "      <th>sku</th>\n",
              "      <th>total_sales</th>\n",
              "      <th>tax_status</th>\n",
              "      <th>post_author</th>\n",
              "      <th>post_date</th>\n",
              "      <th>post_date_gmt</th>\n",
              "      <th>post_title</th>\n",
              "      <th>post_excerpt</th>\n",
              "      <th>post_status</th>\n",
              "      <th>post_name</th>\n",
              "      <th>post_modified</th>\n",
              "      <th>post_modified_gmt</th>\n",
              "      <th>guid</th>\n",
              "      <th>post_type</th>\n",
              "      <th>post_mime_type</th>\n",
              "      <th>turnover</th>\n",
              "    </tr>\n",
              "  </thead>\n",
              "  <tbody>\n",
              "    <tr>\n",
              "      <th>0</th>\n",
              "      <td>3847</td>\n",
              "      <td>1</td>\n",
              "      <td>24.2</td>\n",
              "      <td>0</td>\n",
              "      <td>outofstock</td>\n",
              "      <td>15298</td>\n",
              "      <td>15298</td>\n",
              "      <td>6.0</td>\n",
              "      <td>taxable</td>\n",
              "      <td>2.0</td>\n",
              "      <td>2018-02-08 12:58:52</td>\n",
              "      <td>2018-02-08 11:58:52</td>\n",
              "      <td>Pierre Jean Villa Saint-Joseph Préface 2018</td>\n",
              "      <td>Il exhale un nez subtil, racé avec du poivre f...</td>\n",
              "      <td>publish</td>\n",
              "      <td>pierre-jean-villa-saint-joseph-preface-2018</td>\n",
              "      <td>2019-12-30 09:30:29</td>\n",
              "      <td>2019-12-30 08:30:29</td>\n",
              "      <td>https://www.bottle-neck.fr/?post_type=product&amp;...</td>\n",
              "      <td>product</td>\n",
              "      <td>NaN</td>\n",
              "      <td>145.2</td>\n",
              "    </tr>\n",
              "    <tr>\n",
              "      <th>1</th>\n",
              "      <td>3849</td>\n",
              "      <td>1</td>\n",
              "      <td>34.3</td>\n",
              "      <td>0</td>\n",
              "      <td>outofstock</td>\n",
              "      <td>15296</td>\n",
              "      <td>15296</td>\n",
              "      <td>0.0</td>\n",
              "      <td>taxable</td>\n",
              "      <td>2.0</td>\n",
              "      <td>2018-02-08 13:49:41</td>\n",
              "      <td>2018-02-08 12:49:41</td>\n",
              "      <td>Pierre Jean Villa Saint-Joseph Rouge Tildé 2017</td>\n",
              "      <td>Les vieilles vignes lui apportent une rare pro...</td>\n",
              "      <td>publish</td>\n",
              "      <td>pierre-jean-villa-saint-joseph-tilde-2017</td>\n",
              "      <td>2019-12-21 09:00:17</td>\n",
              "      <td>2019-12-21 08:00:17</td>\n",
              "      <td>https://www.bottle-neck.fr/?post_type=product&amp;...</td>\n",
              "      <td>product</td>\n",
              "      <td>NaN</td>\n",
              "      <td>0.0</td>\n",
              "    </tr>\n",
              "    <tr>\n",
              "      <th>2</th>\n",
              "      <td>3850</td>\n",
              "      <td>1</td>\n",
              "      <td>20.8</td>\n",
              "      <td>0</td>\n",
              "      <td>outofstock</td>\n",
              "      <td>15300</td>\n",
              "      <td>15300</td>\n",
              "      <td>0.0</td>\n",
              "      <td>taxable</td>\n",
              "      <td>2.0</td>\n",
              "      <td>2018-02-08 14:08:36</td>\n",
              "      <td>2018-02-08 13:08:36</td>\n",
              "      <td>Pierre Jean Villa Crozes-Hermitage Accroche Co...</td>\n",
              "      <td>Dentelle de fruit de jeunes syrah, aux tanins ...</td>\n",
              "      <td>publish</td>\n",
              "      <td>pierre-jean-villa-croze-hermitage-accroche-coe...</td>\n",
              "      <td>2020-06-26 18:15:03</td>\n",
              "      <td>2020-06-26 16:15:03</td>\n",
              "      <td>https://www.bottle-neck.fr/?post_type=product&amp;...</td>\n",
              "      <td>product</td>\n",
              "      <td>NaN</td>\n",
              "      <td>0.0</td>\n",
              "    </tr>\n",
              "    <tr>\n",
              "      <th>3</th>\n",
              "      <td>4032</td>\n",
              "      <td>1</td>\n",
              "      <td>14.1</td>\n",
              "      <td>0</td>\n",
              "      <td>outofstock</td>\n",
              "      <td>19814</td>\n",
              "      <td>19814</td>\n",
              "      <td>3.0</td>\n",
              "      <td>taxable</td>\n",
              "      <td>2.0</td>\n",
              "      <td>2018-02-09 14:01:05</td>\n",
              "      <td>2018-02-09 13:01:05</td>\n",
              "      <td>Pierre Jean Villa IGP Collines Rhodaniennes Ga...</td>\n",
              "      <td>Gamine représente tout le fruité et la gourman...</td>\n",
              "      <td>publish</td>\n",
              "      <td>pierre-jean-villa-igp-gamine-2018</td>\n",
              "      <td>2020-01-04 16:36:01</td>\n",
              "      <td>2020-01-04 15:36:01</td>\n",
              "      <td>https://www.bottle-neck.fr/?post_type=product&amp;...</td>\n",
              "      <td>product</td>\n",
              "      <td>NaN</td>\n",
              "      <td>42.3</td>\n",
              "    </tr>\n",
              "    <tr>\n",
              "      <th>4</th>\n",
              "      <td>4039</td>\n",
              "      <td>1</td>\n",
              "      <td>46.0</td>\n",
              "      <td>0</td>\n",
              "      <td>outofstock</td>\n",
              "      <td>19815</td>\n",
              "      <td>19815</td>\n",
              "      <td>0.0</td>\n",
              "      <td>taxable</td>\n",
              "      <td>2.0</td>\n",
              "      <td>2018-02-12 09:04:37</td>\n",
              "      <td>2018-02-12 08:04:37</td>\n",
              "      <td>Pierre Jean Villa Côte Rôtie Carmina 2017</td>\n",
              "      <td>Le côte rôtie Carmina monte en puissance mais ...</td>\n",
              "      <td>publish</td>\n",
              "      <td>pierre-jean-villa-cote-rotie-carmina-2017</td>\n",
              "      <td>2020-01-04 16:36:10</td>\n",
              "      <td>2020-01-04 15:36:10</td>\n",
              "      <td>https://www.bottle-neck.fr/?post_type=product&amp;...</td>\n",
              "      <td>product</td>\n",
              "      <td>NaN</td>\n",
              "      <td>0.0</td>\n",
              "    </tr>\n",
              "    <tr>\n",
              "      <th>...</th>\n",
              "      <td>...</td>\n",
              "      <td>...</td>\n",
              "      <td>...</td>\n",
              "      <td>...</td>\n",
              "      <td>...</td>\n",
              "      <td>...</td>\n",
              "      <td>...</td>\n",
              "      <td>...</td>\n",
              "      <td>...</td>\n",
              "      <td>...</td>\n",
              "      <td>...</td>\n",
              "      <td>...</td>\n",
              "      <td>...</td>\n",
              "      <td>...</td>\n",
              "      <td>...</td>\n",
              "      <td>...</td>\n",
              "      <td>...</td>\n",
              "      <td>...</td>\n",
              "      <td>...</td>\n",
              "      <td>...</td>\n",
              "      <td>...</td>\n",
              "      <td>...</td>\n",
              "    </tr>\n",
              "    <tr>\n",
              "      <th>891</th>\n",
              "      <td>6930</td>\n",
              "      <td>1</td>\n",
              "      <td>8.4</td>\n",
              "      <td>83</td>\n",
              "      <td>instock</td>\n",
              "      <td>16135</td>\n",
              "      <td>16135</td>\n",
              "      <td>5.0</td>\n",
              "      <td>taxable</td>\n",
              "      <td>2.0</td>\n",
              "      <td>2020-04-25 13:22:38</td>\n",
              "      <td>2020-04-25 11:22:38</td>\n",
              "      <td>Mouthes Le Bihan Côtes de Duras L'Aimé Chai 2015</td>\n",
              "      <td>Belle robe jeune à dominante rubis soutenue. N...</td>\n",
              "      <td>publish</td>\n",
              "      <td>mouthes-le-bihan-aime-chai-2015</td>\n",
              "      <td>2020-08-26 17:35:03</td>\n",
              "      <td>2020-08-26 15:35:03</td>\n",
              "      <td>https://www.bottle-neck.fr/?post_type=product&amp;...</td>\n",
              "      <td>product</td>\n",
              "      <td>NaN</td>\n",
              "      <td>42.0</td>\n",
              "    </tr>\n",
              "    <tr>\n",
              "      <th>892</th>\n",
              "      <td>7023</td>\n",
              "      <td>1</td>\n",
              "      <td>27.5</td>\n",
              "      <td>15</td>\n",
              "      <td>instock</td>\n",
              "      <td>15891</td>\n",
              "      <td>15891</td>\n",
              "      <td>0.0</td>\n",
              "      <td>taxable</td>\n",
              "      <td>2.0</td>\n",
              "      <td>2020-05-02 14:53:40</td>\n",
              "      <td>2020-05-02 12:53:40</td>\n",
              "      <td>Camin Larredya Jurançon Sec La Virada 2018</td>\n",
              "      <td>L'exotisme du nez est complété par d'élégantes...</td>\n",
              "      <td>publish</td>\n",
              "      <td>camin-larredya-jurancon-sec-la-virada-2018</td>\n",
              "      <td>2020-08-26 17:35:02</td>\n",
              "      <td>2020-08-26 15:35:02</td>\n",
              "      <td>https://www.bottle-neck.fr/?post_type=product&amp;...</td>\n",
              "      <td>product</td>\n",
              "      <td>NaN</td>\n",
              "      <td>0.0</td>\n",
              "    </tr>\n",
              "    <tr>\n",
              "      <th>893</th>\n",
              "      <td>7025</td>\n",
              "      <td>1</td>\n",
              "      <td>69.0</td>\n",
              "      <td>2</td>\n",
              "      <td>instock</td>\n",
              "      <td>15887</td>\n",
              "      <td>15887</td>\n",
              "      <td>0.0</td>\n",
              "      <td>taxable</td>\n",
              "      <td>2.0</td>\n",
              "      <td>2020-05-02 15:00:54</td>\n",
              "      <td>2020-05-02 13:00:54</td>\n",
              "      <td>Domaine Jamet Côte Rôtie Fructus Voluptas 2018</td>\n",
              "      <td>Pour cette cuvée, Jean-Paul Jamet recherche un...</td>\n",
              "      <td>publish</td>\n",
              "      <td>jamet-cote-rotie-fructus-voluptas-2018</td>\n",
              "      <td>2020-08-14 18:15:03</td>\n",
              "      <td>2020-08-14 16:15:03</td>\n",
              "      <td>https://www.bottle-neck.fr/?post_type=product&amp;...</td>\n",
              "      <td>product</td>\n",
              "      <td>NaN</td>\n",
              "      <td>0.0</td>\n",
              "    </tr>\n",
              "    <tr>\n",
              "      <th>894</th>\n",
              "      <td>7247</td>\n",
              "      <td>1</td>\n",
              "      <td>54.8</td>\n",
              "      <td>23</td>\n",
              "      <td>instock</td>\n",
              "      <td>13127-1</td>\n",
              "      <td>13127-1</td>\n",
              "      <td>0.0</td>\n",
              "      <td>taxable</td>\n",
              "      <td>2.0</td>\n",
              "      <td>2020-06-09 15:42:04</td>\n",
              "      <td>2020-06-09 13:42:04</td>\n",
              "      <td>Clos du Mont-Olivet Châteauneuf-du-Pape 2007</td>\n",
              "      <td>Nez gracieux, très élégant avec une touche flo...</td>\n",
              "      <td>publish</td>\n",
              "      <td>clos-du-mont-olivet-chateauneuf-du-pape-2007-2</td>\n",
              "      <td>2020-07-20 17:09:06</td>\n",
              "      <td>2020-07-20 15:09:06</td>\n",
              "      <td>https://www.bottle-neck.fr/?post_type=product&amp;...</td>\n",
              "      <td>product</td>\n",
              "      <td>NaN</td>\n",
              "      <td>0.0</td>\n",
              "    </tr>\n",
              "    <tr>\n",
              "      <th>895</th>\n",
              "      <td>7338</td>\n",
              "      <td>1</td>\n",
              "      <td>16.3</td>\n",
              "      <td>45</td>\n",
              "      <td>instock</td>\n",
              "      <td>16230</td>\n",
              "      <td>16230</td>\n",
              "      <td>0.0</td>\n",
              "      <td>taxable</td>\n",
              "      <td>2.0</td>\n",
              "      <td>2020-07-20 11:00:00</td>\n",
              "      <td>2020-07-20 09:00:00</td>\n",
              "      <td>Domaine Saint-Nicolas Vin de France Blanc Les ...</td>\n",
              "      <td>Issu d'un assemblage de chenin blanc et de cha...</td>\n",
              "      <td>publish</td>\n",
              "      <td>domaine-saint-nicolas-fiefs-vendeens-blanc-les...</td>\n",
              "      <td>2020-08-13 10:45:03</td>\n",
              "      <td>2020-08-13 08:45:03</td>\n",
              "      <td>https://www.bottle-neck.fr/?post_type=product&amp;...</td>\n",
              "      <td>product</td>\n",
              "      <td>NaN</td>\n",
              "      <td>0.0</td>\n",
              "    </tr>\n",
              "  </tbody>\n",
              "</table>\n",
              "<p>896 rows × 22 columns</p>\n",
              "</div>\n",
              "      <button class=\"colab-df-convert\" onclick=\"convertToInteractive('df-22e2ea79-1e19-4ae8-bce5-05d9b9c8fd3d')\"\n",
              "              title=\"Convert this dataframe to an interactive table.\"\n",
              "              style=\"display:none;\">\n",
              "        \n",
              "  <svg xmlns=\"http://www.w3.org/2000/svg\" height=\"24px\"viewBox=\"0 0 24 24\"\n",
              "       width=\"24px\">\n",
              "    <path d=\"M0 0h24v24H0V0z\" fill=\"none\"/>\n",
              "    <path d=\"M18.56 5.44l.94 2.06.94-2.06 2.06-.94-2.06-.94-.94-2.06-.94 2.06-2.06.94zm-11 1L8.5 8.5l.94-2.06 2.06-.94-2.06-.94L8.5 2.5l-.94 2.06-2.06.94zm10 10l.94 2.06.94-2.06 2.06-.94-2.06-.94-.94-2.06-.94 2.06-2.06.94z\"/><path d=\"M17.41 7.96l-1.37-1.37c-.4-.4-.92-.59-1.43-.59-.52 0-1.04.2-1.43.59L10.3 9.45l-7.72 7.72c-.78.78-.78 2.05 0 2.83L4 21.41c.39.39.9.59 1.41.59.51 0 1.02-.2 1.41-.59l7.78-7.78 2.81-2.81c.8-.78.8-2.07 0-2.86zM5.41 20L4 18.59l7.72-7.72 1.47 1.35L5.41 20z\"/>\n",
              "  </svg>\n",
              "      </button>\n",
              "      \n",
              "  <style>\n",
              "    .colab-df-container {\n",
              "      display:flex;\n",
              "      flex-wrap:wrap;\n",
              "      gap: 12px;\n",
              "    }\n",
              "\n",
              "    .colab-df-convert {\n",
              "      background-color: #E8F0FE;\n",
              "      border: none;\n",
              "      border-radius: 50%;\n",
              "      cursor: pointer;\n",
              "      display: none;\n",
              "      fill: #1967D2;\n",
              "      height: 32px;\n",
              "      padding: 0 0 0 0;\n",
              "      width: 32px;\n",
              "    }\n",
              "\n",
              "    .colab-df-convert:hover {\n",
              "      background-color: #E2EBFA;\n",
              "      box-shadow: 0px 1px 2px rgba(60, 64, 67, 0.3), 0px 1px 3px 1px rgba(60, 64, 67, 0.15);\n",
              "      fill: #174EA6;\n",
              "    }\n",
              "\n",
              "    [theme=dark] .colab-df-convert {\n",
              "      background-color: #3B4455;\n",
              "      fill: #D2E3FC;\n",
              "    }\n",
              "\n",
              "    [theme=dark] .colab-df-convert:hover {\n",
              "      background-color: #434B5C;\n",
              "      box-shadow: 0px 1px 3px 1px rgba(0, 0, 0, 0.15);\n",
              "      filter: drop-shadow(0px 1px 2px rgba(0, 0, 0, 0.3));\n",
              "      fill: #FFFFFF;\n",
              "    }\n",
              "  </style>\n",
              "\n",
              "      <script>\n",
              "        const buttonEl =\n",
              "          document.querySelector('#df-22e2ea79-1e19-4ae8-bce5-05d9b9c8fd3d button.colab-df-convert');\n",
              "        buttonEl.style.display =\n",
              "          google.colab.kernel.accessAllowed ? 'block' : 'none';\n",
              "\n",
              "        async function convertToInteractive(key) {\n",
              "          const element = document.querySelector('#df-22e2ea79-1e19-4ae8-bce5-05d9b9c8fd3d');\n",
              "          const dataTable =\n",
              "            await google.colab.kernel.invokeFunction('convertToInteractive',\n",
              "                                                     [key], {});\n",
              "          if (!dataTable) return;\n",
              "\n",
              "          const docLinkHtml = 'Like what you see? Visit the ' +\n",
              "            '<a target=\"_blank\" href=https://colab.research.google.com/notebooks/data_table.ipynb>data table notebook</a>'\n",
              "            + ' to learn more about interactive tables.';\n",
              "          element.innerHTML = '';\n",
              "          dataTable['output_type'] = 'display_data';\n",
              "          await google.colab.output.renderOutput(dataTable, element);\n",
              "          const docLink = document.createElement('div');\n",
              "          docLink.innerHTML = docLinkHtml;\n",
              "          element.appendChild(docLink);\n",
              "        }\n",
              "      </script>\n",
              "    </div>\n",
              "  </div>\n",
              "  "
            ],
            "text/plain": [
              "     product_id  onsale_web  price  ...  post_type post_mime_type turnover\n",
              "0          3847           1   24.2  ...    product            NaN    145.2\n",
              "1          3849           1   34.3  ...    product            NaN      0.0\n",
              "2          3850           1   20.8  ...    product            NaN      0.0\n",
              "3          4032           1   14.1  ...    product            NaN     42.3\n",
              "4          4039           1   46.0  ...    product            NaN      0.0\n",
              "..          ...         ...    ...  ...        ...            ...      ...\n",
              "891        6930           1    8.4  ...    product            NaN     42.0\n",
              "892        7023           1   27.5  ...    product            NaN      0.0\n",
              "893        7025           1   69.0  ...    product            NaN      0.0\n",
              "894        7247           1   54.8  ...    product            NaN      0.0\n",
              "895        7338           1   16.3  ...    product            NaN      0.0\n",
              "\n",
              "[896 rows x 22 columns]"
            ]
          },
          "metadata": {},
          "execution_count": 28
        }
      ]
    },
    {
      "cell_type": "code",
      "source": [
        ""
      ],
      "metadata": {
        "id": "nGhqsYgEHxIo"
      },
      "execution_count": null,
      "outputs": []
    }
  ]
}