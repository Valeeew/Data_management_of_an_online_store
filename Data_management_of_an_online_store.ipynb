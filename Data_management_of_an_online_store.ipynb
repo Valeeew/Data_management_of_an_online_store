{
  "nbformat": 4,
  "nbformat_minor": 0,
  "metadata": {
    "colab": {
      "name": "Data_management_of_an_online_store.ipynb",
      "provenance": [],
      "collapsed_sections": [],
      "mount_file_id": "1dwVFN0594aSoB4oDt8fs4PFTGFq-spGd",
      "authorship_tag": "ABX9TyOwcgDugnqx9+c15DTb9MT1",
      "include_colab_link": true
    },
    "kernelspec": {
      "name": "python3",
      "display_name": "Python 3"
    },
    "language_info": {
      "name": "python"
    }
  },
  "cells": [
    {
      "cell_type": "markdown",
      "metadata": {
        "id": "view-in-github",
        "colab_type": "text"
      },
      "source": [
        "<a href=\"https://colab.research.google.com/github/Valeeew/Data_management_of_an_online_store/blob/master/Data_management_of_an_online_store.ipynb\" target=\"_parent\"><img src=\"https://colab.research.google.com/assets/colab-badge.svg\" alt=\"Open In Colab\"/></a>"
      ]
    },
    {
      "cell_type": "markdown",
      "source": [
        "# Management & Optimisation d'une boutique en ligne\n",
        "## Par Valentin MONTEIRO \n",
        "---\n",
        "### Sommaire\n",
        "> ### IMPORT\n",
        "- [Import des library](#scrollTo=tAgUgPb2dUt3&line=1&uniqifier=1)\n",
        "- [Import des DATA](#scrollTo=LGGkJyQgd2Vc&line=3&uniqifier=1)\n",
        "- Traitement des DATA\n",
        ">> - [df_web](#scrollTo=THwlX1u91f2t&line=4&uniqifier=1)\n",
        ">> - [df_liaison](#scrollTo=ykl7KSWzVFsA&line=1&uniqifier=1)❓\n",
        "- [Lexique des données](#scrollTo=oG89DAzeosCW&line=1&uniqifier=1)\n",
        "\n",
        "> ### Objectifs\n",
        "- [Objectifs](#scrollTo=zVQGfyVrRI86&line=15&uniqifier=1)\n",
        "\n",
        "> ### Code\n",
        ">> - [Rapprocher les 2 exports](#scrollTo=VpQfY-tkWMYh&line=2&uniqifier=1)\n",
        ">> - [Calcul CA/produit](#scrollTo=nGntr2d-xQYs&line=1&uniqifier=1)\n",
        "\n"
      ],
      "metadata": {
        "id": "0OJV1Wwle0mW"
      }
    },
    {
      "cell_type": "markdown",
      "source": [
        "## IMPORT"
      ],
      "metadata": {
        "id": "eTEr3fFai_Vb"
      }
    },
    {
      "cell_type": "markdown",
      "source": [
        "---\n",
        "> ### Import des Libraries\n",
        "---\n",
        "\n"
      ],
      "metadata": {
        "id": "GwyznVc0hr3T"
      }
    },
    {
      "cell_type": "code",
      "source": [
        "import pandas as pd"
      ],
      "metadata": {
        "id": "tAgUgPb2dUt3"
      },
      "execution_count": 2,
      "outputs": []
    },
    {
      "cell_type": "markdown",
      "source": [
        "---\n",
        "> ### Import des DATA from Github\n",
        "---\n",
        "\n",
        "\n"
      ],
      "metadata": {
        "id": "3w9KiwHLl4xR"
      }
    },
    {
      "cell_type": "code",
      "source": [
        "# Clone the entire repo & import DATA\n",
        "!git clone -l -s git://github.com/Valeeew/Data_management_of_an_online_store cloned-repo\n",
        "%cd cloned-repo\n",
        "!ls\n",
        "\n",
        "# Enregistrement des DATA dans les DATAframe\n",
        "df_erp = pd.read_excel(\"erp.xlsx\")\n",
        "df_liaison = pd.read_excel(\"liaison.xlsx\")\n",
        "df_web = pd.read_excel(\"web.xlsx\")"
      ],
      "metadata": {
        "colab": {
          "base_uri": "https://localhost:8080/"
        },
        "id": "LGGkJyQgd2Vc",
        "outputId": "7dbda448-6820-4fe3-ef5d-632b73b66ca5"
      },
      "execution_count": 3,
      "outputs": [
        {
          "output_type": "stream",
          "name": "stdout",
          "text": [
            "Cloning into 'cloned-repo'...\n",
            "warning: --local is ignored\n",
            "remote: Enumerating objects: 15, done.\u001b[K\n",
            "remote: Counting objects:   6% (1/15)\u001b[K\rremote: Counting objects:  13% (2/15)\u001b[K\rremote: Counting objects:  20% (3/15)\u001b[K\rremote: Counting objects:  26% (4/15)\u001b[K\rremote: Counting objects:  33% (5/15)\u001b[K\rremote: Counting objects:  40% (6/15)\u001b[K\rremote: Counting objects:  46% (7/15)\u001b[K\rremote: Counting objects:  53% (8/15)\u001b[K\rremote: Counting objects:  60% (9/15)\u001b[K\rremote: Counting objects:  66% (10/15)\u001b[K\rremote: Counting objects:  73% (11/15)\u001b[K\rremote: Counting objects:  80% (12/15)\u001b[K\rremote: Counting objects:  86% (13/15)\u001b[K\rremote: Counting objects:  93% (14/15)\u001b[K\rremote: Counting objects: 100% (15/15)\u001b[K\rremote: Counting objects: 100% (15/15), done.\u001b[K\n",
            "remote: Compressing objects:   7% (1/14)\u001b[K\rremote: Compressing objects:  14% (2/14)\u001b[K\rremote: Compressing objects:  21% (3/14)\u001b[K\rremote: Compressing objects:  28% (4/14)\u001b[K\rremote: Compressing objects:  35% (5/14)\u001b[K\rremote: Compressing objects:  42% (6/14)\u001b[K\rremote: Compressing objects:  50% (7/14)\u001b[K\rremote: Compressing objects:  57% (8/14)\u001b[K\rremote: Compressing objects:  64% (9/14)\u001b[K\rremote: Compressing objects:  71% (10/14)\u001b[K\rremote: Compressing objects:  78% (11/14)\u001b[K\rremote: Compressing objects:  85% (12/14)\u001b[K\rremote: Compressing objects:  92% (13/14)\u001b[K\rremote: Compressing objects: 100% (14/14)\u001b[K\rremote: Compressing objects: 100% (14/14), done.\u001b[K\n",
            "Receiving objects:   6% (1/15)   \rReceiving objects:  13% (2/15)   \rReceiving objects:  20% (3/15)   \rReceiving objects:  26% (4/15)   \rReceiving objects:  33% (5/15)   \rReceiving objects:  40% (6/15)   \rReceiving objects:  46% (7/15)   \rReceiving objects:  53% (8/15)   \rReceiving objects:  60% (9/15)   \rReceiving objects:  66% (10/15)   \rremote: Total 15 (delta 7), reused 4 (delta 1), pack-reused 0\u001b[K\n",
            "Receiving objects:  73% (11/15)   \rReceiving objects:  80% (12/15)   \rReceiving objects:  86% (13/15)   \rReceiving objects:  93% (14/15)   \rReceiving objects: 100% (15/15)   \rReceiving objects: 100% (15/15), 346.18 KiB | 31.47 MiB/s, done.\n",
            "Resolving deltas:   0% (0/7)   \rResolving deltas:  42% (3/7)   \rResolving deltas:  57% (4/7)   \rResolving deltas:  85% (6/7)   \rResolving deltas: 100% (7/7)   \rResolving deltas: 100% (7/7), done.\n",
            "/content/cloned-repo\n",
            "Data_management_of_an_online_store.ipynb  erp.xlsx  liaison.xlsx  web.xlsx\n"
          ]
        }
      ]
    },
    {
      "cell_type": "markdown",
      "source": [
        "---\n",
        "> ### Traitement des DATA\n",
        "---\n",
        "\n",
        "\n"
      ],
      "metadata": {
        "id": "gWgr8IqLtxSJ"
      }
    },
    {
      "cell_type": "markdown",
      "source": [
        "#### df_web"
      ],
      "metadata": {
        "id": "wdQhhYS1U2DM"
      }
    },
    {
      "cell_type": "code",
      "source": [
        "# Traitement des données web inutiles\n",
        "df_web = df_web.drop([\"virtual\",\"downloadable\",\"rating_count\",\"average_rating\",\"tax_class\",\"post_content\",\"comment_status\",\"ping_status\",\"post_password\",\"post_content_filtered\",\"post_parent\",\"menu_order\",\"comment_count\"], axis = 1)\n",
        "# Remplacement des données NaN dans df_web.total_sales\n",
        "df_web.total_sales = df_web.total_sales.fillna(0)\n",
        "# Remplacement des données tax_status ➡️ taxable = 1 et Nan = 0\n",
        "df_web.tax_status = df_web.tax_status.fillna(0)\n",
        "df_web.tax_status = df_web.tax_status.replace(\"taxable\",1)"
      ],
      "metadata": {
        "id": "THwlX1u91f2t"
      },
      "execution_count": 4,
      "outputs": []
    },
    {
      "cell_type": "markdown",
      "source": [
        "#### df_liaison"
      ],
      "metadata": {
        "id": "q0qUljylU9O1"
      }
    },
    {
      "cell_type": "code",
      "source": [
        "#Suppression des valeurs NaN dans id_web ❓\n",
        "#df_liaison = df_liaison[df_liaison.id_web.notnull()]"
      ],
      "metadata": {
        "id": "ykl7KSWzVFsA"
      },
      "execution_count": 22,
      "outputs": []
    },
    {
      "cell_type": "markdown",
      "source": [
        "---\n",
        "> ### Lexique des données\n",
        "---\n",
        "\n",
        "\n",
        "\n"
      ],
      "metadata": {
        "id": "oG89DAzeosCW"
      }
    },
    {
      "cell_type": "markdown",
      "source": [
        "#### df_erp\n",
        "\n",
        "| Variable | Description | Type | PK |\n",
        "| :--------------- |:---------------| :-----| :---|\n",
        "| product_id | références produit | int | ✅ |\n",
        "| onsale_web | vendu en ligne | boolean ||\n",
        "| price | prix de vente | float ||\n",
        "| stock_quantity | quantité dans le stock | int ||\n",
        "|stock_status | État de stock | str ||\n",
        "\n",
        "#### df_web\n",
        "\n",
        "| Variable | Description | Type | PK |\n",
        "| :--------------- |:---------------| :-----| :---|\n",
        "| sku | références produit | int | ✅ |\n",
        "| total_sales | nombre de vente | Int ||\n",
        "| tax_status | produit taxable ou non | Boolean ||\n",
        "| post_author | auteur de l'article | int ||\n",
        "| post_date | Date de publication | date ||\n",
        "| post_date_gmt | Date de publication h GMT| date ||\n",
        "| post_title | titre de l'article | str ||\n",
        "| post_excerpt | description de l'article | str ||\n",
        "| post_status | statut de l'article | str ||\n",
        "| post_name | Nom de l'article | str ||\n",
        "| post_modified | Date dernière MAJ | date ||\n",
        "| post_modified_gmt | Date dernière MAJ h GMT | date ||\n",
        "| guid | lien | str ||\n",
        "| post_type | type de l'article | str ||\n",
        "| post_mime_type | Chemin de l'image | str ||"
      ],
      "metadata": {
        "id": "mf8VrEjXyfDT"
      }
    },
    {
      "cell_type": "markdown",
      "source": [
        "---\n",
        "> ### Objectifs\n",
        "---"
      ],
      "metadata": {
        "id": "Png2fUGNzHuh"
      }
    },
    {
      "cell_type": "markdown",
      "source": [
        "- Rapprocher les 2 exports\n",
        "- Chiffre d’affaires par produit\n",
        "- Total du chiffre d’affaires réalisé en ligne.\n",
        "- Analiser la variable price\n",
        "- - Détecter d’éventuelles valeurs aberrantes\n",
        "- - Lister les valeur aberrantes \n",
        "- - Faire une représentation graphique"
      ],
      "metadata": {
        "id": "zVQGfyVrRI86"
      }
    },
    {
      "cell_type": "markdown",
      "source": [
        "---\n",
        "> ### Code\n",
        "---"
      ],
      "metadata": {
        "id": "yjP90-Fe0RPf"
      }
    },
    {
      "cell_type": "markdown",
      "source": [
        "---\n",
        ">#### Rapprocher les 2 exports\n",
        "---"
      ],
      "metadata": {
        "id": "rPtCtg1jbVi0"
      }
    },
    {
      "cell_type": "code",
      "source": [
        "# Merge df_erp & df_liaison\n",
        "df_erp_liaison = df_erp.merge(df_liaison, how=\"inner\", right_on=\"product_id\", left_on=\"product_id\")\n",
        "# Merge df_erp_liaison & df_web\n",
        "df_bottleneck = df_erp_liaison.merge(df_web, how=\"inner\", right_on=\"sku\", left_on=\"id_web\")"
      ],
      "metadata": {
        "id": "VpQfY-tkWMYh"
      },
      "execution_count": 23,
      "outputs": []
    },
    {
      "cell_type": "markdown",
      "source": [
        "---\n",
        ">#### Calcul du CA/produit\n",
        "---"
      ],
      "metadata": {
        "id": "UmxGQZJMbmPX"
      }
    },
    {
      "cell_type": "code",
      "source": [
        "#Calcul du CA car cellule déja link\n"
      ],
      "metadata": {
        "id": "nGntr2d-xQYs"
      },
      "execution_count": 22,
      "outputs": []
    },
    {
      "cell_type": "code",
      "source": [
        ""
      ],
      "metadata": {
        "id": "dwOAg5jrtGl2"
      },
      "execution_count": 22,
      "outputs": []
    },
    {
      "cell_type": "code",
      "source": [
        ""
      ],
      "metadata": {
        "id": "Agq2pTCMRrBj"
      },
      "execution_count": null,
      "outputs": []
    }
  ]
}