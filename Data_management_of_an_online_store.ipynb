{
  "nbformat": 4,
  "nbformat_minor": 0,
  "metadata": {
    "colab": {
      "name": "Data_management_of_an_online_store.ipynb",
      "provenance": [],
      "collapsed_sections": [],
      "mount_file_id": "1dwVFN0594aSoB4oDt8fs4PFTGFq-spGd",
      "authorship_tag": "ABX9TyOCw+nzlLusMeyhacNdYma4",
      "include_colab_link": true
    },
    "kernelspec": {
      "name": "python3",
      "display_name": "Python 3"
    },
    "language_info": {
      "name": "python"
    }
  },
  "cells": [
    {
      "cell_type": "markdown",
      "metadata": {
        "id": "view-in-github",
        "colab_type": "text"
      },
      "source": [
        "<a href=\"https://colab.research.google.com/github/Valeeew/Data_management_of_an_online_store/blob/master/Data_management_of_an_online_store.ipynb\" target=\"_parent\"><img src=\"https://colab.research.google.com/assets/colab-badge.svg\" alt=\"Open In Colab\"/></a>"
      ]
    },
    {
      "cell_type": "markdown",
      "source": [
        "# Management & Optimisation d'une boutique en ligne\n",
        "## Par Valentin MONTEIRO \n",
        "---\n",
        "### Sommaire\n",
        "> ### IMPORT\n",
        "- [Import des library](#scrollTo=tAgUgPb2dUt3&line=1&uniqifier=1)\n",
        "- [Import des DATA](#scrollTo=LGGkJyQgd2Vc&line=3&uniqifier=1)\n",
        "> #### Traitement des DATA\n",
        ">> - [df_web](#scrollTo=THwlX1u91f2t&line=4&uniqifier=1)\n",
        ">> - [df_liaison](#scrollTo=ykl7KSWzVFsA&line=1&uniqifier=1)❓\n",
        "- [Lexique des données](#scrollTo=oG89DAzeosCW&line=1&uniqifier=1)\n",
        "\n",
        "> ### Objectifs\n",
        "- [Objectifs](#scrollTo=zVQGfyVrRI86&line=15&uniqifier=1)\n",
        "\n",
        "> ### Code\n",
        ">> - [Rapprocher les 2 exports](#scrollTo=VpQfY-tkWMYh&line=2&uniqifier=1)\n",
        ">> - [Calcul CA (turnover) par produit](#scrollTo=nGntr2d-xQYs&line=1&uniqifier=1)\n",
        ">> - [Calcul du CA (turnover) des ventes en ligne](#scrollTo=dwOAg5jrtGl2&line=1&uniqifier=1)\n",
        ">> ### Mise en Évidence des Outliers\n",
        ">>> - [Création des graphiques](#scrollTo=5XuD8uES_19X&line=1&uniqifier=1)\n",
        ">>> - [Création des fonctions Outliers](#scrollTo=70cVYyx7KKSy&line=1&uniqifier=1)\n",
        ">>> - [Création des DATAframes Ouliers](#scrollTo=4VqetTeIWg3b&line=2&uniqifier=1)\n",
        "\n",
        "> ## __Exposé__\n",
        "> - [Données complètes](#scrollTo=G1T8nOXJnHOO&line=1&uniqifier=1)\n",
        "> - [Chiffre d'affaire par produit](#scrollTo=QZ-LVxLArtOT&line=1&uniqifier=1)\n",
        "> - [Chiffre d'affaire en ligne](#scrollTo=dUJYCPemr3Ua&line=1&uniqifier=1)\n",
        "> - [Répartion des prix](#scrollTo=MXm8pDFbA85K&line=1&uniqifier=1)\n",
        "> - [Visualisation des Outliers](#scrollTo=t7L5Vc7TDRuh&line=1&uniqifier=1)\n",
        "> - [Liste des outliers](#scrollTo=PCy8bK4gDlQM&line=8&uniqifier=1)\n",
        "> - [Produit à vérifier](#scrollTo=b71DPo3VGAiC&line=1&uniqifier=1)\n",
        "\n"
      ],
      "metadata": {
        "id": "0OJV1Wwle0mW"
      }
    },
    {
      "cell_type": "markdown",
      "source": [
        "## IMPORT"
      ],
      "metadata": {
        "id": "eTEr3fFai_Vb"
      }
    },
    {
      "cell_type": "markdown",
      "source": [
        "---\n",
        "> ### Import des Libraries\n",
        "---\n",
        "\n"
      ],
      "metadata": {
        "id": "GwyznVc0hr3T"
      }
    },
    {
      "cell_type": "code",
      "source": [
        "import pandas as pd\n",
        "import matplotlib.pyplot as plt\n",
        "import numpy as np\n",
        "import seaborn as sns\n",
        "#!pip install --upgrade \"openpyxl== 3.0.0\"\n",
        "!pip install valeeew\n",
        "from valeeew import cleaning as cl"
      ],
      "metadata": {
        "id": "tAgUgPb2dUt3",
        "outputId": "2a32fcfe-d6d6-4d78-fdd3-dc1286c3fbb4",
        "colab": {
          "base_uri": "https://localhost:8080/"
        }
      },
      "execution_count": 1,
      "outputs": [
        {
          "output_type": "stream",
          "name": "stdout",
          "text": [
            "Requirement already satisfied: valeeew in /usr/local/lib/python3.7/dist-packages (0.0.13)\n"
          ]
        }
      ]
    },
    {
      "cell_type": "markdown",
      "source": [
        "---\n",
        "> ### Import des DATA from Github\n",
        "---\n",
        "\n",
        "\n"
      ],
      "metadata": {
        "id": "3w9KiwHLl4xR"
      }
    },
    {
      "cell_type": "code",
      "source": [
        "# Clone the entire repo & import DATA\n",
        "!git clone -l -s git://github.com/Valeeew/Data_management_of_an_online_store cloned-repo\n",
        "%cd cloned-repo\n",
        "!ls\n",
        "\n",
        "# Enregistrement des DATA dans les DATAframe\n",
        "df_erp = pd.read_excel(\"erp.xlsx\")\n",
        "df_liaison = pd.read_excel(\"liaison.xlsx\")\n",
        "df_web = pd.read_excel(\"web.xlsx\")"
      ],
      "metadata": {
        "colab": {
          "base_uri": "https://localhost:8080/"
        },
        "id": "LGGkJyQgd2Vc",
        "outputId": "2311714e-5763-4d11-f787-6052daa7ffd6"
      },
      "execution_count": 2,
      "outputs": [
        {
          "output_type": "stream",
          "name": "stdout",
          "text": [
            "fatal: destination path 'cloned-repo' already exists and is not an empty directory.\n",
            "/content/cloned-repo\n",
            "Data_management_of_an_online_store.ipynb  erp.xlsx     liaison.xlsx  web.xlsx\n",
            "erp.csv\t\t\t\t\t  liaison.csv  web.csv\n"
          ]
        },
        {
          "output_type": "stream",
          "name": "stderr",
          "text": [
            "/usr/local/lib/python3.7/dist-packages/openpyxl/worksheet/_reader.py:312: UserWarning: Unknown extension is not supported and will be removed\n",
            "  warn(msg)\n"
          ]
        }
      ]
    },
    {
      "cell_type": "markdown",
      "source": [
        "---\n",
        "> ### Traitement des DATA\n",
        "---\n",
        "\n",
        "\n"
      ],
      "metadata": {
        "id": "gWgr8IqLtxSJ"
      }
    },
    {
      "cell_type": "markdown",
      "source": [
        "#### df_web"
      ],
      "metadata": {
        "id": "wdQhhYS1U2DM"
      }
    },
    {
      "cell_type": "code",
      "source": [
        "cl.watch(df_web)"
      ],
      "metadata": {
        "id": "PkiFECtZFk3q",
        "outputId": "a42f6cf1-8355-4859-b95c-2b6314deb348",
        "colab": {
          "base_uri": "https://localhost:8080/",
          "height": 1000
        }
      },
      "execution_count": 3,
      "outputs": [
        {
          "output_type": "stream",
          "name": "stdout",
          "text": [
            "Duplicate and null DATA \n",
            "\n",
            "Total missing value \n",
            " \n",
            " sku                        85\n",
            "virtual                     0\n",
            "downloadable                0\n",
            "rating_count                0\n",
            "average_rating             83\n",
            "total_sales                83\n",
            "tax_status                797\n",
            "tax_class                1513\n",
            "post_author                83\n",
            "post_date                  83\n",
            "post_date_gmt              83\n",
            "post_content             1513\n",
            "post_title                 83\n",
            "post_excerpt              797\n",
            "post_status                83\n",
            "comment_status             83\n",
            "ping_status                83\n",
            "post_password            1513\n",
            "post_name                  83\n",
            "post_modified              83\n",
            "post_modified_gmt          83\n",
            "post_content_filtered    1513\n",
            "post_parent                83\n",
            "guid                       83\n",
            "menu_order                 83\n",
            "post_type                  83\n",
            "post_mime_type            799\n",
            "comment_count              83\n",
            "dtype: int64 \n",
            "\n",
            "Percentage of missing value \n",
            " \n",
            " virtual                    0.00\n",
            "downloadable               0.00\n",
            "rating_count               0.00\n",
            "comment_count              5.49\n",
            "post_modified_gmt          5.49\n",
            "ping_status                5.49\n",
            "comment_status             5.49\n",
            "post_status                5.49\n",
            "post_parent                5.49\n",
            "post_title                 5.49\n",
            "guid                       5.49\n",
            "post_date                  5.49\n",
            "post_name                  5.49\n",
            "post_author                5.49\n",
            "menu_order                 5.49\n",
            "post_type                  5.49\n",
            "total_sales                5.49\n",
            "average_rating             5.49\n",
            "post_date_gmt              5.49\n",
            "post_modified              5.49\n",
            "sku                        5.62\n",
            "tax_status                52.68\n",
            "post_excerpt              52.68\n",
            "post_mime_type            52.81\n",
            "post_content_filtered    100.00\n",
            "post_content             100.00\n",
            "tax_class                100.00\n",
            "post_password            100.00\n",
            "dtype: float64 \n",
            "\n",
            "     sku  virtual  downloadable  ...  post_type  post_mime_type  comment_count\n",
            "179  NaN        0             0  ...        NaN             NaN            NaN\n",
            "227  NaN        0             0  ...        NaN             NaN            NaN\n",
            "230  NaN        0             0  ...        NaN             NaN            NaN\n",
            "231  NaN        0             0  ...        NaN             NaN            NaN\n",
            "233  NaN        0             0  ...        NaN             NaN            NaN\n",
            "..   ...      ...           ...  ...        ...             ...            ...\n",
            "792  NaN        0             0  ...        NaN             NaN            NaN\n",
            "793  NaN        0             0  ...        NaN             NaN            NaN\n",
            "794  NaN        0             0  ...        NaN             NaN            NaN\n",
            "795  NaN        0             0  ...        NaN             NaN            NaN\n",
            "796  NaN        0             0  ...        NaN             NaN            NaN\n",
            "\n",
            "[82 rows x 28 columns] \n",
            "\n"
          ]
        },
        {
          "output_type": "display_data",
          "data": {
            "image/png": "[encoded data removed]",
            "text/plain": [
              "<Figure size 432x432 with 1 Axes>"
            ]
          },
          "metadata": {
            "needs_background": "light"
          }
        }
      ]
    },
    {
      "cell_type": "code",
      "source": [
        "# Il semble que toutes les données soit toujours publié en double, seul le post_type change.\n",
        "verification = df_web[(df_web.sku == 15298) == True]\n",
        "verification"
      ],
      "metadata": {
        "colab": {
          "base_uri": "https://localhost:8080/",
          "height": 315
        },
        "id": "N3hGpOarPkTh",
        "outputId": "4ccd41fc-b8ab-4f7d-d104-c1972551e096"
      },
      "execution_count": 4,
      "outputs": [
        {
          "output_type": "execute_result",
          "data": {
            "text/html": [
              "\n",
              "  <div id=\"df-4d57d095-3b0d-4b35-9c4a-c146749cf93a\">\n",
              "    <div class=\"colab-df-container\">\n",
              "      <div>\n",
              "<style scoped>\n",
              "    .dataframe tbody tr th:only-of-type {\n",
              "        vertical-align: middle;\n",
              "    }\n",
              "\n",
              "    .dataframe tbody tr th {\n",
              "        vertical-align: top;\n",
              "    }\n",
              "\n",
              "    .dataframe thead th {\n",
              "        text-align: right;\n",
              "    }\n",
              "</style>\n",
              "<table border=\"1\" class=\"dataframe\">\n",
              "  <thead>\n",
              "    <tr style=\"text-align: right;\">\n",
              "      <th></th>\n",
              "      <th>sku</th>\n",
              "      <th>virtual</th>\n",
              "      <th>downloadable</th>\n",
              "      <th>rating_count</th>\n",
              "      <th>average_rating</th>\n",
              "      <th>total_sales</th>\n",
              "      <th>tax_status</th>\n",
              "      <th>tax_class</th>\n",
              "      <th>post_author</th>\n",
              "      <th>post_date</th>\n",
              "      <th>post_date_gmt</th>\n",
              "      <th>post_content</th>\n",
              "      <th>post_title</th>\n",
              "      <th>post_excerpt</th>\n",
              "      <th>post_status</th>\n",
              "      <th>comment_status</th>\n",
              "      <th>ping_status</th>\n",
              "      <th>post_password</th>\n",
              "      <th>post_name</th>\n",
              "      <th>post_modified</th>\n",
              "      <th>post_modified_gmt</th>\n",
              "      <th>post_content_filtered</th>\n",
              "      <th>post_parent</th>\n",
              "      <th>guid</th>\n",
              "      <th>menu_order</th>\n",
              "      <th>post_type</th>\n",
              "      <th>post_mime_type</th>\n",
              "      <th>comment_count</th>\n",
              "    </tr>\n",
              "  </thead>\n",
              "  <tbody>\n",
              "    <tr>\n",
              "      <th>1</th>\n",
              "      <td>15298</td>\n",
              "      <td>0</td>\n",
              "      <td>0</td>\n",
              "      <td>0</td>\n",
              "      <td>0.0</td>\n",
              "      <td>6.0</td>\n",
              "      <td>taxable</td>\n",
              "      <td>NaN</td>\n",
              "      <td>2.0</td>\n",
              "      <td>2018-02-08 12:58:52</td>\n",
              "      <td>2018-02-08 11:58:52</td>\n",
              "      <td>NaN</td>\n",
              "      <td>Pierre Jean Villa Saint-Joseph Préface 2018</td>\n",
              "      <td>Il exhale un nez subtil, racé avec du poivre f...</td>\n",
              "      <td>publish</td>\n",
              "      <td>closed</td>\n",
              "      <td>closed</td>\n",
              "      <td>NaN</td>\n",
              "      <td>pierre-jean-villa-saint-joseph-preface-2018</td>\n",
              "      <td>2019-12-30 09:30:29</td>\n",
              "      <td>2019-12-30 08:30:29</td>\n",
              "      <td>NaN</td>\n",
              "      <td>0.0</td>\n",
              "      <td>https://www.bottle-neck.fr/?post_type=product&amp;...</td>\n",
              "      <td>0.0</td>\n",
              "      <td>product</td>\n",
              "      <td>NaN</td>\n",
              "      <td>0.0</td>\n",
              "    </tr>\n",
              "    <tr>\n",
              "      <th>799</th>\n",
              "      <td>15298</td>\n",
              "      <td>0</td>\n",
              "      <td>0</td>\n",
              "      <td>0</td>\n",
              "      <td>0.0</td>\n",
              "      <td>6.0</td>\n",
              "      <td>NaN</td>\n",
              "      <td>NaN</td>\n",
              "      <td>2.0</td>\n",
              "      <td>2018-02-08 12:58:52</td>\n",
              "      <td>2018-02-08 11:58:52</td>\n",
              "      <td>NaN</td>\n",
              "      <td>Pierre Jean Villa Saint-Joseph Préface 2018</td>\n",
              "      <td>NaN</td>\n",
              "      <td>publish</td>\n",
              "      <td>closed</td>\n",
              "      <td>closed</td>\n",
              "      <td>NaN</td>\n",
              "      <td>pierre-jean-villa-saint-joseph-preface-2018</td>\n",
              "      <td>2019-12-30 09:30:29</td>\n",
              "      <td>2019-12-30 08:30:29</td>\n",
              "      <td>NaN</td>\n",
              "      <td>0.0</td>\n",
              "      <td>https://www.bottle-neck.fr/wp-content/uploads/...</td>\n",
              "      <td>0.0</td>\n",
              "      <td>attachment</td>\n",
              "      <td>image/jpeg</td>\n",
              "      <td>0.0</td>\n",
              "    </tr>\n",
              "  </tbody>\n",
              "</table>\n",
              "</div>\n",
              "      <button class=\"colab-df-convert\" onclick=\"convertToInteractive('df-4d57d095-3b0d-4b35-9c4a-c146749cf93a')\"\n",
              "              title=\"Convert this dataframe to an interactive table.\"\n",
              "              style=\"display:none;\">\n",
              "        \n",
              "  <svg xmlns=\"http://www.w3.org/2000/svg\" height=\"24px\"viewBox=\"0 0 24 24\"\n",
              "       width=\"24px\">\n",
              "    <path d=\"M0 0h24v24H0V0z\" fill=\"none\"/>\n",
              "    <path d=\"M18.56 5.44l.94 2.06.94-2.06 2.06-.94-2.06-.94-.94-2.06-.94 2.06-2.06.94zm-11 1L8.5 8.5l.94-2.06 2.06-.94-2.06-.94L8.5 2.5l-.94 2.06-2.06.94zm10 10l.94 2.06.94-2.06 2.06-.94-2.06-.94-.94-2.06-.94 2.06-2.06.94z\"/><path d=\"M17.41 7.96l-1.37-1.37c-.4-.4-.92-.59-1.43-.59-.52 0-1.04.2-1.43.59L10.3 9.45l-7.72 7.72c-.78.78-.78 2.05 0 2.83L4 21.41c.39.39.9.59 1.41.59.51 0 1.02-.2 1.41-.59l7.78-7.78 2.81-2.81c.8-.78.8-2.07 0-2.86zM5.41 20L4 18.59l7.72-7.72 1.47 1.35L5.41 20z\"/>\n",
              "  </svg>\n",
              "      </button>\n",
              "      \n",
              "  <style>\n",
              "    .colab-df-container {\n",
              "      display:flex;\n",
              "      flex-wrap:wrap;\n",
              "      gap: 12px;\n",
              "    }\n",
              "\n",
              "    .colab-df-convert {\n",
              "      background-color: #E8F0FE;\n",
              "      border: none;\n",
              "      border-radius: 50%;\n",
              "      cursor: pointer;\n",
              "      display: none;\n",
              "      fill: #1967D2;\n",
              "      height: 32px;\n",
              "      padding: 0 0 0 0;\n",
              "      width: 32px;\n",
              "    }\n",
              "\n",
              "    .colab-df-convert:hover {\n",
              "      background-color: #E2EBFA;\n",
              "      box-shadow: 0px 1px 2px rgba(60, 64, 67, 0.3), 0px 1px 3px 1px rgba(60, 64, 67, 0.15);\n",
              "      fill: #174EA6;\n",
              "    }\n",
              "\n",
              "    [theme=dark] .colab-df-convert {\n",
              "      background-color: #3B4455;\n",
              "      fill: #D2E3FC;\n",
              "    }\n",
              "\n",
              "    [theme=dark] .colab-df-convert:hover {\n",
              "      background-color: #434B5C;\n",
              "      box-shadow: 0px 1px 3px 1px rgba(0, 0, 0, 0.15);\n",
              "      filter: drop-shadow(0px 1px 2px rgba(0, 0, 0, 0.3));\n",
              "      fill: #FFFFFF;\n",
              "    }\n",
              "  </style>\n",
              "\n",
              "      <script>\n",
              "        const buttonEl =\n",
              "          document.querySelector('#df-4d57d095-3b0d-4b35-9c4a-c146749cf93a button.colab-df-convert');\n",
              "        buttonEl.style.display =\n",
              "          google.colab.kernel.accessAllowed ? 'block' : 'none';\n",
              "\n",
              "        async function convertToInteractive(key) {\n",
              "          const element = document.querySelector('#df-4d57d095-3b0d-4b35-9c4a-c146749cf93a');\n",
              "          const dataTable =\n",
              "            await google.colab.kernel.invokeFunction('convertToInteractive',\n",
              "                                                     [key], {});\n",
              "          if (!dataTable) return;\n",
              "\n",
              "          const docLinkHtml = 'Like what you see? Visit the ' +\n",
              "            '<a target=\"_blank\" href=https://colab.research.google.com/notebooks/data_table.ipynb>data table notebook</a>'\n",
              "            + ' to learn more about interactive tables.';\n",
              "          element.innerHTML = '';\n",
              "          dataTable['output_type'] = 'display_data';\n",
              "          await google.colab.output.renderOutput(dataTable, element);\n",
              "          const docLink = document.createElement('div');\n",
              "          docLink.innerHTML = docLinkHtml;\n",
              "          element.appendChild(docLink);\n",
              "        }\n",
              "      </script>\n",
              "    </div>\n",
              "  </div>\n",
              "  "
            ],
            "text/plain": [
              "       sku  virtual  downloadable  ...   post_type  post_mime_type  comment_count\n",
              "1    15298        0             0  ...     product             NaN            0.0\n",
              "799  15298        0             0  ...  attachment      image/jpeg            0.0\n",
              "\n",
              "[2 rows x 28 columns]"
            ]
          },
          "metadata": {},
          "execution_count": 4
        }
      ]
    },
    {
      "cell_type": "code",
      "source": [
        "# Traitement des données web inutiles\n",
        "#df_web = df_web.drop([\"virtual\",\"downloadable\",\"rating_count\",\"average_rating\",\"tax_class\",\"post_content\",\"comment_status\",\"ping_status\",\"post_password\",\"post_content_filtered\",\"post_parent\",\"menu_order\",\"comment_count\"], axis = 1)\n",
        "# Remplacement des données NaN dans df_web.total_sales\n",
        "df_web.total_sales = df_web.total_sales.fillna(0)\n",
        "# Remplacement des données tax_status ➡️ taxable = 1 et Nan = 0\n",
        "# Suppression des lignes qui ne sont pas taxées\n",
        "df_web = df_web[df_web.tax_status.notnull()]\n",
        "#df_web.tax_status = df_web.tax_status.replace(\"taxable\",1)\n",
        "web_pk = df_web.sku.unique().shape\n",
        "# vérification de la clé primaire sku \n",
        "print(df_web.sku.duplicated)\n",
        "print(df_web.shape)"
      ],
      "metadata": {
        "id": "THwlX1u91f2t",
        "colab": {
          "base_uri": "https://localhost:8080/"
        },
        "outputId": "0485f70c-fb37-45c3-c3de-0eef5d8bc829"
      },
      "execution_count": 5,
      "outputs": [
        {
          "output_type": "stream",
          "name": "stdout",
          "text": [
            "<bound method Series.duplicated of 0      bon-cadeau-25-euros\n",
            "1                    15298\n",
            "2                    15296\n",
            "3                    15300\n",
            "4                    19814\n",
            "              ...         \n",
            "762                  16135\n",
            "767                  15891\n",
            "768                  15887\n",
            "797                13127-1\n",
            "798                  16230\n",
            "Name: sku, Length: 716, dtype: object>\n",
            "(716, 28)\n"
          ]
        }
      ]
    },
    {
      "cell_type": "markdown",
      "source": [
        "#### df_liaison"
      ],
      "metadata": {
        "id": "q0qUljylU9O1"
      }
    },
    {
      "cell_type": "code",
      "source": [
        "cl.watch(df_liaison)"
      ],
      "metadata": {
        "id": "ykl7KSWzVFsA",
        "outputId": "36825802-b16b-44d3-b75c-5471bb8a22da",
        "colab": {
          "base_uri": "https://localhost:8080/",
          "height": 692
        }
      },
      "execution_count": 6,
      "outputs": [
        {
          "output_type": "stream",
          "name": "stdout",
          "text": [
            "Null DATA and nothing duplicate \n",
            "\n",
            "Total missing value \n",
            " \n",
            " product_id     0\n",
            "id_web        91\n",
            "dtype: int64 \n",
            "\n",
            "Percentage of missing value \n",
            " \n",
            " product_id     0.00\n",
            "id_web        11.03\n",
            "dtype: float64 \n",
            "\n",
            "Empty DataFrame\n",
            "Columns: [product_id, id_web]\n",
            "Index: [] \n",
            "\n"
          ]
        },
        {
          "output_type": "display_data",
          "data": {
            "image/png": "[encoded data removed]",
            "text/plain": [
              "<Figure size 432x432 with 1 Axes>"
            ]
          },
          "metadata": {
            "needs_background": "light"
          }
        }
      ]
    },
    {
      "cell_type": "markdown",
      "source": [
        "#### df_erp"
      ],
      "metadata": {
        "id": "69v2vunAM-no"
      }
    },
    {
      "cell_type": "code",
      "source": [
        "cl.watch(df_erp)"
      ],
      "metadata": {
        "id": "qkGhBczANEJ3",
        "outputId": "1ed92acb-1aa7-4eb4-b6f2-db08137c9bbf",
        "colab": {
          "base_uri": "https://localhost:8080/",
          "height": 859
        }
      },
      "execution_count": 7,
      "outputs": [
        {
          "output_type": "stream",
          "name": "stdout",
          "text": [
            "No duplicate and no null DATA \n",
            "\n",
            "Total missing value \n",
            " \n",
            " product_id        0\n",
            "onsale_web        0\n",
            "price             0\n",
            "stock_quantity    0\n",
            "stock_status      0\n",
            "dtype: int64 \n",
            "\n",
            "Percentage of missing value \n",
            " \n",
            " product_id        0.0\n",
            "onsale_web        0.0\n",
            "price             0.0\n",
            "stock_quantity    0.0\n",
            "stock_status      0.0\n",
            "dtype: float64 \n",
            "\n",
            "Empty DataFrame\n",
            "Columns: [product_id, onsale_web, price, stock_quantity, stock_status]\n",
            "Index: [] \n",
            "\n"
          ]
        },
        {
          "output_type": "display_data",
          "data": {
            "image/png": "[encoded data removed]",
            "text/plain": [
              "<Figure size 432x432 with 1 Axes>"
            ]
          },
          "metadata": {
            "needs_background": "light"
          }
        }
      ]
    },
    {
      "cell_type": "markdown",
      "source": [
        "---\n",
        "> ### Lexique des données\n",
        "---\n",
        "\n",
        "\n",
        "\n"
      ],
      "metadata": {
        "id": "oG89DAzeosCW"
      }
    },
    {
      "cell_type": "markdown",
      "source": [
        "#### df_erp\n",
        "\n",
        "| Variable | Description | Type | PK |\n",
        "| :--------------- |:---------------| :-----| :---|\n",
        "| product_id | références produit | int | ✅ |\n",
        "| onsale_web | vendu en ligne | boolean ||\n",
        "| price | prix de vente | float ||\n",
        "| stock_quantity | quantité dans le stock | int ||\n",
        "|stock_status | État de stock | str ||\n",
        "\n",
        "#### df_web\n",
        "\n",
        "| Variable | Description | Type | PK |\n",
        "| :--------------- |:---------------| :-----| :---|\n",
        "| sku | références produit | int | ✅ |\n",
        "| total_sales | nombre de vente | Int ||\n",
        "| tax_status | produit taxable ou non | Boolean ||\n",
        "| post_author | auteur de l'article | int ||\n",
        "| post_date | Date de publication | date ||\n",
        "| post_date_gmt | Date de publication h GMT| date ||\n",
        "| post_title | titre de l'article | str ||\n",
        "| post_excerpt | description de l'article | str ||\n",
        "| post_status | statut de l'article | str ||\n",
        "| post_name | Nom de l'article | str ||\n",
        "| post_modified | Date dernière MAJ | date ||\n",
        "| post_modified_gmt | Date dernière MAJ h GMT | date ||\n",
        "| guid | lien | str ||\n",
        "| post_type | type de l'article | str ||\n",
        "| post_mime_type | Chemin de l'image | str ||"
      ],
      "metadata": {
        "id": "mf8VrEjXyfDT"
      }
    },
    {
      "cell_type": "markdown",
      "source": [
        "## Objectifs\n"
      ],
      "metadata": {
        "id": "Png2fUGNzHuh"
      }
    },
    {
      "cell_type": "markdown",
      "source": [
        "- Rapprocher les 2 exports\n",
        "- Chiffre d’affaires par produit\n",
        "- Total du chiffre d’affaires réalisé en ligne.\n",
        "- Analyser la variable price\n",
        "- - Détecter d’éventuelles valeurs aberrantes\n",
        "- - Lister les valeur aberrantes \n",
        "- - Faire une représentation graphique"
      ],
      "metadata": {
        "id": "zVQGfyVrRI86"
      }
    },
    {
      "cell_type": "markdown",
      "source": [
        "\n",
        "## Code\n"
      ],
      "metadata": {
        "id": "yjP90-Fe0RPf"
      }
    },
    {
      "cell_type": "markdown",
      "source": [
        "---\n",
        ">#### Rapprocher les 2 exports\n",
        "---"
      ],
      "metadata": {
        "id": "rPtCtg1jbVi0"
      }
    },
    {
      "cell_type": "code",
      "source": [
        "# Merge df_erp & df_liaison\n",
        "df_verification_erp_liaison = df_erp.merge(df_liaison, how=\"outer\", right_on=\"product_id\", left_on=\"product_id\", indicator=True)\n",
        "df_erp_liaison = df_erp.merge(df_liaison, how=\"inner\", right_on=\"product_id\", left_on=\"product_id\")\n",
        "print(df_verification_erp_liaison.shape, df_erp_liaison.shape, df_verification_erp_liaison._merge.unique())\n",
        "# Aucune corruption des Données"
      ],
      "metadata": {
        "id": "VpQfY-tkWMYh",
        "colab": {
          "base_uri": "https://localhost:8080/"
        },
        "outputId": "e654e080-cfbb-4cfb-deaa-78f1a2dcb79d"
      },
      "execution_count": 8,
      "outputs": [
        {
          "output_type": "stream",
          "name": "stdout",
          "text": [
            "(825, 7) (825, 6) ['both']\n",
            "Categories (3, object): ['left_only', 'right_only', 'both']\n"
          ]
        }
      ]
    },
    {
      "cell_type": "code",
      "source": [
        "# Merge liaison & web en outer\n",
        "df_verification_liaison_web = df_liaison.merge(df_web, how=\"outer\", right_on=\"sku\", left_on=\"id_web\", indicator=True)\n",
        "print(df_verification_liaison_web._merge.unique())"
      ],
      "metadata": {
        "colab": {
          "base_uri": "https://localhost:8080/"
        },
        "id": "9sp8T-HQT2Yo",
        "outputId": "7ebb9d09-5b84-468d-c54e-cec1ebdf2894"
      },
      "execution_count": 9,
      "outputs": [
        {
          "output_type": "stream",
          "name": "stdout",
          "text": [
            "['both', 'left_only']\n",
            "Categories (3, object): ['left_only', 'right_only', 'both']\n"
          ]
        }
      ]
    },
    {
      "cell_type": "code",
      "source": [
        "# Des données sont manquente dans le df_web\n",
        "df_manquant = cl.keep(df_verification_liaison_web, \"_merge\", \"left_only\")\n",
        "print(df_manquant)"
      ],
      "metadata": {
        "colab": {
          "base_uri": "https://localhost:8080/"
        },
        "id": "iID5gbzIVoiX",
        "outputId": "99348274-61ad-457c-c4e3-ad4fef9a3c22"
      },
      "execution_count": 10,
      "outputs": [
        {
          "output_type": "stream",
          "name": "stdout",
          "text": [
            "     product_id   id_web  sku  ...  post_mime_type  comment_count     _merge\n",
            "367        4289    13771  NaN  ...             NaN            NaN  left_only\n",
            "409        4568    15065  NaN  ...             NaN            NaN  left_only\n",
            "412        4584    14785  NaN  ...             NaN            NaN  left_only\n",
            "516        4741    12601  NaN  ...             NaN            NaN  left_only\n",
            "550        4864    15154  NaN  ...             NaN            NaN  left_only\n",
            "553        4869    14360  NaN  ...             NaN            NaN  left_only\n",
            "581        4921    15608  NaN  ...             NaN            NaN  left_only\n",
            "582        4922    15586  NaN  ...             NaN            NaN  left_only\n",
            "625        5018    15272  NaN  ...             NaN            NaN  left_only\n",
            "627        5021    15630  NaN  ...             NaN            NaN  left_only\n",
            "675        5505    14648  NaN  ...             NaN            NaN  left_only\n",
            "692        5559    14715  NaN  ...             NaN            NaN  left_only\n",
            "698        5570    14730  NaN  ...             NaN            NaN  left_only\n",
            "763        5800    14689  NaN  ...             NaN            NaN  left_only\n",
            "807        5953    14379  NaN  ...             NaN            NaN  left_only\n",
            "808        5954    15609  NaN  ...             NaN            NaN  left_only\n",
            "809        5955    14377  NaN  ...             NaN            NaN  left_only\n",
            "811        5957    13577  NaN  ...             NaN            NaN  left_only\n",
            "834        6100    15529  NaN  ...             NaN            NaN  left_only\n",
            "914        7329  14680-1  NaN  ...             NaN            NaN  left_only\n",
            "\n",
            "[20 rows x 31 columns]\n"
          ]
        }
      ]
    },
    {
      "cell_type": "code",
      "source": [
        "# Afin de pouvoir répondre aux besoin, je décide de merge en inner\n",
        "# Merge df_erp_liaison & df_web en inner\n",
        "df_bottleneck = df_erp_liaison.merge(df_web, how=\"inner\", right_on=\"sku\", left_on=\"id_web\")"
      ],
      "metadata": {
        "id": "Jb3w6S-vVQTp"
      },
      "execution_count": 11,
      "outputs": []
    },
    {
      "cell_type": "markdown",
      "source": [
        "---\n",
        ">#### Calcul du CA (turnover) produit\n",
        "---"
      ],
      "metadata": {
        "id": "UmxGQZJMbmPX"
      }
    },
    {
      "cell_type": "code",
      "source": [
        "# Création d'une colone chiffre d'affaire par produit\n",
        "df_bottleneck[\"turnover\"] = df_bottleneck.price * df_bottleneck.total_sales\n",
        "# Création d'un DATA frame ca pour exposer mon résultat\n",
        "ca = df_bottleneck[[\"product_id\",\"post_name\",\"onsale_web\",\"price\",\"total_sales\",\"turnover\"]]"
      ],
      "metadata": {
        "id": "nGntr2d-xQYs"
      },
      "execution_count": 12,
      "outputs": []
    },
    {
      "cell_type": "markdown",
      "source": [
        "---\n",
        "> #### Calcul du CA (turnover) des vente en ligne\n",
        "---"
      ],
      "metadata": {
        "id": "Z-BSM-uD0CZP"
      }
    },
    {
      "cell_type": "code",
      "source": [
        "# Isolation des ventes en ligne\n",
        "df_bottleneck_online = df_bottleneck[(df_bottleneck.onsale_web == 1) == True]\n",
        "# Calcul du total du CA\n",
        "turnover_online = df_bottleneck_online.turnover.sum()"
      ],
      "metadata": {
        "id": "dwOAg5jrtGl2"
      },
      "execution_count": 13,
      "outputs": []
    },
    {
      "cell_type": "markdown",
      "source": [
        "---\n",
        "> #### Mise en évidence des Outliers\n",
        "---"
      ],
      "metadata": {
        "id": "Bc-lpcTSqjIX"
      }
    },
    {
      "cell_type": "markdown",
      "source": [
        "##### Creation des Graphiques"
      ],
      "metadata": {
        "id": "HiliwduZsDAV"
      }
    },
    {
      "cell_type": "code",
      "source": [
        "# Création d'une variable attribution des prix\n",
        "attribution_prix = df_bottleneck.price.value_counts()\n",
        "# Isolation de chaque prix pour les mettres en corélation avec l'attribution des prix\n",
        "prix = df_bottleneck.price.unique()\n",
        "# Création du graphique de la répartition des prix\n",
        "repartition_des_prix = plt.figure(figsize=(12,9))\n",
        "ax = repartition_des_prix.add_axes([0.15,0.15,0.75,0.75])\n",
        "ax.hist2d(prix, attribution_prix, bins=(np.arange(0, 225, 1), np.arange(0 , 35, 1)))\n",
        "plt.show(repartition_des_prix)"
      ],
      "metadata": {
        "id": "5XuD8uES_19X",
        "colab": {
          "base_uri": "https://localhost:8080/",
          "height": 534
        },
        "outputId": "694c968f-cfdd-43d6-976f-e660709b764e"
      },
      "execution_count": 14,
      "outputs": [
        {
          "output_type": "display_data",
          "data": {
            "image/png": "[encoded data removed]",
            "text/plain": [
              "<Figure size 864x648 with 1 Axes>"
            ]
          },
          "metadata": {
            "needs_background": "light"
          }
        }
      ]
    },
    {
      "cell_type": "code",
      "source": [
        "# Création d'un boxplot afin de mettre en évidence les outliers\n",
        "outliers_prix = plt.figure(figsize=(12,9))\n",
        "sns.boxplot(x = df_bottleneck.price)\n",
        "plt.show"
      ],
      "metadata": {
        "id": "nGhqsYgEHxIo",
        "colab": {
          "base_uri": "https://localhost:8080/",
          "height": 568
        },
        "outputId": "f5c7db93-1fe7-49d1-c4d8-d171146481dd"
      },
      "execution_count": 15,
      "outputs": [
        {
          "output_type": "execute_result",
          "data": {
            "text/plain": [
              "<function matplotlib.pyplot.show>"
            ]
          },
          "metadata": {},
          "execution_count": 15
        },
        {
          "output_type": "display_data",
          "data": {
            "image/png": "[encoded data removed]",
            "text/plain": [
              "<Figure size 864x648 with 1 Axes>"
            ]
          },
          "metadata": {
            "needs_background": "light"
          }
        }
      ]
    },
    {
      "cell_type": "markdown",
      "source": [
        "##### Création des fonction Outliers"
      ],
      "metadata": {
        "id": "8j3_3HyAsLtX"
      }
    },
    {
      "cell_type": "code",
      "source": [
        "# Création de la fonction Z-scoring\n",
        "def z_score(data):\n",
        "  resultat_outliers = []\n",
        "  threshold = 3\n",
        "  mean = np.mean(data)\n",
        "  std = np.std(data)\n",
        "  \n",
        "  for i in data:\n",
        "# Formule Z-scoring ➡️ score > 3\n",
        "    score = (i-mean)/std\n",
        "    if np.abs(score) > threshold:\n",
        "      resultat_outliers.append(i)\n",
        "  return resultat_outliers"
      ],
      "metadata": {
        "id": "70cVYyx7KKSy"
      },
      "execution_count": 16,
      "outputs": []
    },
    {
      "cell_type": "code",
      "source": [
        "# Création de la Fonction IQR\n",
        "def outliers_IQR(data):\n",
        "  q1 = np.quantile(data, 0.25)\n",
        "  q3 = np.quantile(data, 0.75)\n",
        "  resultat_outliers = []\n",
        "  iqr = q3-q1\n",
        "# Formule IQR\n",
        "  lower_range = q1 - 1.5*iqr\n",
        "  upper_range = q3 + 1.5*iqr\n",
        "  for i in data:\n",
        "    if i < lower_range  or i > upper_range:\n",
        "      resultat_outliers.append(i)\n",
        "  return resultat_outliers"
      ],
      "metadata": {
        "id": "9dnwt29ktYY3"
      },
      "execution_count": 17,
      "outputs": []
    },
    {
      "cell_type": "markdown",
      "source": [
        "##### Création des DATAframes"
      ],
      "metadata": {
        "id": "v9PrOS8P3iMb"
      }
    },
    {
      "cell_type": "code",
      "source": [
        "# Récupération de l'outlier minimum selon Z-score\n",
        "since_z_score = min(z_score(df_bottleneck.price))\n",
        "# Récupération de l'outlier minimum selon IQR\n",
        "since_iqr = min(outliers_IQR(df_bottleneck.price))\n",
        "# Création d'un DATAframe des outliers en fonction du Z-score\n",
        "outliers_prix_z_score = df_bottleneck[(df_bottleneck.price >= since_z_score) == True]\n",
        "# Création d'un DATAframe des outliers en fonction IQR\n",
        "outliers_prix_iqr = df_bottleneck[(df_bottleneck.price >= since_iqr) == True]"
      ],
      "metadata": {
        "id": "4VqetTeIWg3b"
      },
      "execution_count": 18,
      "outputs": []
    },
    {
      "cell_type": "markdown",
      "source": [
        "# __Exposé__\n"
      ],
      "metadata": {
        "id": "DWWM1bFw3uvj"
      }
    },
    {
      "cell_type": "markdown",
      "source": [
        "---\n",
        "> ### Données Complètes\n",
        "---\n",
        "[Liaison des DATAframes](#scrollTo=VpQfY-tkWMYh&line=3&uniqifier=1)"
      ],
      "metadata": {
        "id": "48E6vFfI4BF0"
      }
    },
    {
      "cell_type": "code",
      "source": [
        "df_bottleneck"
      ],
      "metadata": {
        "colab": {
          "base_uri": "https://localhost:8080/",
          "height": 1000
        },
        "id": "G1T8nOXJnHOO",
        "outputId": "23fe816c-348d-4ffa-ec8b-c62f0ba7ee17"
      },
      "execution_count": 19,
      "outputs": [
        {
          "output_type": "execute_result",
          "data": {
            "text/html": [
              "\n",
              "  <div id=\"df-0d70f62d-7789-4cf3-bec4-40ba1d93af04\">\n",
              "    <div class=\"colab-df-container\">\n",
              "      <div>\n",
              "<style scoped>\n",
              "    .dataframe tbody tr th:only-of-type {\n",
              "        vertical-align: middle;\n",
              "    }\n",
              "\n",
              "    .dataframe tbody tr th {\n",
              "        vertical-align: top;\n",
              "    }\n",
              "\n",
              "    .dataframe thead th {\n",
              "        text-align: right;\n",
              "    }\n",
              "</style>\n",
              "<table border=\"1\" class=\"dataframe\">\n",
              "  <thead>\n",
              "    <tr style=\"text-align: right;\">\n",
              "      <th></th>\n",
              "      <th>product_id</th>\n",
              "      <th>onsale_web</th>\n",
              "      <th>price</th>\n",
              "      <th>stock_quantity</th>\n",
              "      <th>stock_status</th>\n",
              "      <th>id_web</th>\n",
              "      <th>sku</th>\n",
              "      <th>virtual</th>\n",
              "      <th>downloadable</th>\n",
              "      <th>rating_count</th>\n",
              "      <th>average_rating</th>\n",
              "      <th>total_sales</th>\n",
              "      <th>tax_status</th>\n",
              "      <th>tax_class</th>\n",
              "      <th>post_author</th>\n",
              "      <th>post_date</th>\n",
              "      <th>post_date_gmt</th>\n",
              "      <th>post_content</th>\n",
              "      <th>post_title</th>\n",
              "      <th>post_excerpt</th>\n",
              "      <th>post_status</th>\n",
              "      <th>comment_status</th>\n",
              "      <th>ping_status</th>\n",
              "      <th>post_password</th>\n",
              "      <th>post_name</th>\n",
              "      <th>post_modified</th>\n",
              "      <th>post_modified_gmt</th>\n",
              "      <th>post_content_filtered</th>\n",
              "      <th>post_parent</th>\n",
              "      <th>guid</th>\n",
              "      <th>menu_order</th>\n",
              "      <th>post_type</th>\n",
              "      <th>post_mime_type</th>\n",
              "      <th>comment_count</th>\n",
              "      <th>turnover</th>\n",
              "    </tr>\n",
              "  </thead>\n",
              "  <tbody>\n",
              "    <tr>\n",
              "      <th>0</th>\n",
              "      <td>3847</td>\n",
              "      <td>1</td>\n",
              "      <td>24.2</td>\n",
              "      <td>0</td>\n",
              "      <td>outofstock</td>\n",
              "      <td>15298</td>\n",
              "      <td>15298</td>\n",
              "      <td>0</td>\n",
              "      <td>0</td>\n",
              "      <td>0</td>\n",
              "      <td>0.0</td>\n",
              "      <td>6.0</td>\n",
              "      <td>taxable</td>\n",
              "      <td>NaN</td>\n",
              "      <td>2.0</td>\n",
              "      <td>2018-02-08 12:58:52</td>\n",
              "      <td>2018-02-08 11:58:52</td>\n",
              "      <td>NaN</td>\n",
              "      <td>Pierre Jean Villa Saint-Joseph Préface 2018</td>\n",
              "      <td>Il exhale un nez subtil, racé avec du poivre f...</td>\n",
              "      <td>publish</td>\n",
              "      <td>closed</td>\n",
              "      <td>closed</td>\n",
              "      <td>NaN</td>\n",
              "      <td>pierre-jean-villa-saint-joseph-preface-2018</td>\n",
              "      <td>2019-12-30 09:30:29</td>\n",
              "      <td>2019-12-30 08:30:29</td>\n",
              "      <td>NaN</td>\n",
              "      <td>0.0</td>\n",
              "      <td>https://www.bottle-neck.fr/?post_type=product&amp;...</td>\n",
              "      <td>0.0</td>\n",
              "      <td>product</td>\n",
              "      <td>NaN</td>\n",
              "      <td>0.0</td>\n",
              "      <td>145.2</td>\n",
              "    </tr>\n",
              "    <tr>\n",
              "      <th>1</th>\n",
              "      <td>3849</td>\n",
              "      <td>1</td>\n",
              "      <td>34.3</td>\n",
              "      <td>0</td>\n",
              "      <td>outofstock</td>\n",
              "      <td>15296</td>\n",
              "      <td>15296</td>\n",
              "      <td>0</td>\n",
              "      <td>0</td>\n",
              "      <td>0</td>\n",
              "      <td>0.0</td>\n",
              "      <td>0.0</td>\n",
              "      <td>taxable</td>\n",
              "      <td>NaN</td>\n",
              "      <td>2.0</td>\n",
              "      <td>2018-02-08 13:49:41</td>\n",
              "      <td>2018-02-08 12:49:41</td>\n",
              "      <td>NaN</td>\n",
              "      <td>Pierre Jean Villa Saint-Joseph Rouge Tildé 2017</td>\n",
              "      <td>Les vieilles vignes lui apportent une rare pro...</td>\n",
              "      <td>publish</td>\n",
              "      <td>closed</td>\n",
              "      <td>closed</td>\n",
              "      <td>NaN</td>\n",
              "      <td>pierre-jean-villa-saint-joseph-tilde-2017</td>\n",
              "      <td>2019-12-21 09:00:17</td>\n",
              "      <td>2019-12-21 08:00:17</td>\n",
              "      <td>NaN</td>\n",
              "      <td>0.0</td>\n",
              "      <td>https://www.bottle-neck.fr/?post_type=product&amp;...</td>\n",
              "      <td>0.0</td>\n",
              "      <td>product</td>\n",
              "      <td>NaN</td>\n",
              "      <td>0.0</td>\n",
              "      <td>0.0</td>\n",
              "    </tr>\n",
              "    <tr>\n",
              "      <th>2</th>\n",
              "      <td>3850</td>\n",
              "      <td>1</td>\n",
              "      <td>20.8</td>\n",
              "      <td>0</td>\n",
              "      <td>outofstock</td>\n",
              "      <td>15300</td>\n",
              "      <td>15300</td>\n",
              "      <td>0</td>\n",
              "      <td>0</td>\n",
              "      <td>0</td>\n",
              "      <td>0.0</td>\n",
              "      <td>0.0</td>\n",
              "      <td>taxable</td>\n",
              "      <td>NaN</td>\n",
              "      <td>2.0</td>\n",
              "      <td>2018-02-08 14:08:36</td>\n",
              "      <td>2018-02-08 13:08:36</td>\n",
              "      <td>NaN</td>\n",
              "      <td>Pierre Jean Villa Crozes-Hermitage Accroche Co...</td>\n",
              "      <td>Dentelle de fruit de jeunes syrah, aux tanins ...</td>\n",
              "      <td>publish</td>\n",
              "      <td>closed</td>\n",
              "      <td>closed</td>\n",
              "      <td>NaN</td>\n",
              "      <td>pierre-jean-villa-croze-hermitage-accroche-coe...</td>\n",
              "      <td>2020-06-26 18:15:03</td>\n",
              "      <td>2020-06-26 16:15:03</td>\n",
              "      <td>NaN</td>\n",
              "      <td>0.0</td>\n",
              "      <td>https://www.bottle-neck.fr/?post_type=product&amp;...</td>\n",
              "      <td>0.0</td>\n",
              "      <td>product</td>\n",
              "      <td>NaN</td>\n",
              "      <td>0.0</td>\n",
              "      <td>0.0</td>\n",
              "    </tr>\n",
              "    <tr>\n",
              "      <th>3</th>\n",
              "      <td>4032</td>\n",
              "      <td>1</td>\n",
              "      <td>14.1</td>\n",
              "      <td>0</td>\n",
              "      <td>outofstock</td>\n",
              "      <td>19814</td>\n",
              "      <td>19814</td>\n",
              "      <td>0</td>\n",
              "      <td>0</td>\n",
              "      <td>0</td>\n",
              "      <td>0.0</td>\n",
              "      <td>3.0</td>\n",
              "      <td>taxable</td>\n",
              "      <td>NaN</td>\n",
              "      <td>2.0</td>\n",
              "      <td>2018-02-09 14:01:05</td>\n",
              "      <td>2018-02-09 13:01:05</td>\n",
              "      <td>NaN</td>\n",
              "      <td>Pierre Jean Villa IGP Collines Rhodaniennes Ga...</td>\n",
              "      <td>Gamine représente tout le fruité et la gourman...</td>\n",
              "      <td>publish</td>\n",
              "      <td>closed</td>\n",
              "      <td>closed</td>\n",
              "      <td>NaN</td>\n",
              "      <td>pierre-jean-villa-igp-gamine-2018</td>\n",
              "      <td>2020-01-04 16:36:01</td>\n",
              "      <td>2020-01-04 15:36:01</td>\n",
              "      <td>NaN</td>\n",
              "      <td>0.0</td>\n",
              "      <td>https://www.bottle-neck.fr/?post_type=product&amp;...</td>\n",
              "      <td>0.0</td>\n",
              "      <td>product</td>\n",
              "      <td>NaN</td>\n",
              "      <td>0.0</td>\n",
              "      <td>42.3</td>\n",
              "    </tr>\n",
              "    <tr>\n",
              "      <th>4</th>\n",
              "      <td>4039</td>\n",
              "      <td>1</td>\n",
              "      <td>46.0</td>\n",
              "      <td>0</td>\n",
              "      <td>outofstock</td>\n",
              "      <td>19815</td>\n",
              "      <td>19815</td>\n",
              "      <td>0</td>\n",
              "      <td>0</td>\n",
              "      <td>0</td>\n",
              "      <td>0.0</td>\n",
              "      <td>0.0</td>\n",
              "      <td>taxable</td>\n",
              "      <td>NaN</td>\n",
              "      <td>2.0</td>\n",
              "      <td>2018-02-12 09:04:37</td>\n",
              "      <td>2018-02-12 08:04:37</td>\n",
              "      <td>NaN</td>\n",
              "      <td>Pierre Jean Villa Côte Rôtie Carmina 2017</td>\n",
              "      <td>Le côte rôtie Carmina monte en puissance mais ...</td>\n",
              "      <td>publish</td>\n",
              "      <td>closed</td>\n",
              "      <td>closed</td>\n",
              "      <td>NaN</td>\n",
              "      <td>pierre-jean-villa-cote-rotie-carmina-2017</td>\n",
              "      <td>2020-01-04 16:36:10</td>\n",
              "      <td>2020-01-04 15:36:10</td>\n",
              "      <td>NaN</td>\n",
              "      <td>0.0</td>\n",
              "      <td>https://www.bottle-neck.fr/?post_type=product&amp;...</td>\n",
              "      <td>0.0</td>\n",
              "      <td>product</td>\n",
              "      <td>NaN</td>\n",
              "      <td>0.0</td>\n",
              "      <td>0.0</td>\n",
              "    </tr>\n",
              "    <tr>\n",
              "      <th>...</th>\n",
              "      <td>...</td>\n",
              "      <td>...</td>\n",
              "      <td>...</td>\n",
              "      <td>...</td>\n",
              "      <td>...</td>\n",
              "      <td>...</td>\n",
              "      <td>...</td>\n",
              "      <td>...</td>\n",
              "      <td>...</td>\n",
              "      <td>...</td>\n",
              "      <td>...</td>\n",
              "      <td>...</td>\n",
              "      <td>...</td>\n",
              "      <td>...</td>\n",
              "      <td>...</td>\n",
              "      <td>...</td>\n",
              "      <td>...</td>\n",
              "      <td>...</td>\n",
              "      <td>...</td>\n",
              "      <td>...</td>\n",
              "      <td>...</td>\n",
              "      <td>...</td>\n",
              "      <td>...</td>\n",
              "      <td>...</td>\n",
              "      <td>...</td>\n",
              "      <td>...</td>\n",
              "      <td>...</td>\n",
              "      <td>...</td>\n",
              "      <td>...</td>\n",
              "      <td>...</td>\n",
              "      <td>...</td>\n",
              "      <td>...</td>\n",
              "      <td>...</td>\n",
              "      <td>...</td>\n",
              "      <td>...</td>\n",
              "    </tr>\n",
              "    <tr>\n",
              "      <th>891</th>\n",
              "      <td>6930</td>\n",
              "      <td>1</td>\n",
              "      <td>8.4</td>\n",
              "      <td>83</td>\n",
              "      <td>instock</td>\n",
              "      <td>16135</td>\n",
              "      <td>16135</td>\n",
              "      <td>0</td>\n",
              "      <td>0</td>\n",
              "      <td>0</td>\n",
              "      <td>0.0</td>\n",
              "      <td>5.0</td>\n",
              "      <td>taxable</td>\n",
              "      <td>NaN</td>\n",
              "      <td>2.0</td>\n",
              "      <td>2020-04-25 13:22:38</td>\n",
              "      <td>2020-04-25 11:22:38</td>\n",
              "      <td>NaN</td>\n",
              "      <td>Mouthes Le Bihan Côtes de Duras L'Aimé Chai 2015</td>\n",
              "      <td>Belle robe jeune à dominante rubis soutenue. N...</td>\n",
              "      <td>publish</td>\n",
              "      <td>closed</td>\n",
              "      <td>closed</td>\n",
              "      <td>NaN</td>\n",
              "      <td>mouthes-le-bihan-aime-chai-2015</td>\n",
              "      <td>2020-08-26 17:35:03</td>\n",
              "      <td>2020-08-26 15:35:03</td>\n",
              "      <td>NaN</td>\n",
              "      <td>0.0</td>\n",
              "      <td>https://www.bottle-neck.fr/?post_type=product&amp;...</td>\n",
              "      <td>0.0</td>\n",
              "      <td>product</td>\n",
              "      <td>NaN</td>\n",
              "      <td>0.0</td>\n",
              "      <td>42.0</td>\n",
              "    </tr>\n",
              "    <tr>\n",
              "      <th>892</th>\n",
              "      <td>7023</td>\n",
              "      <td>1</td>\n",
              "      <td>27.5</td>\n",
              "      <td>15</td>\n",
              "      <td>instock</td>\n",
              "      <td>15891</td>\n",
              "      <td>15891</td>\n",
              "      <td>0</td>\n",
              "      <td>0</td>\n",
              "      <td>0</td>\n",
              "      <td>0.0</td>\n",
              "      <td>0.0</td>\n",
              "      <td>taxable</td>\n",
              "      <td>NaN</td>\n",
              "      <td>2.0</td>\n",
              "      <td>2020-05-02 14:53:40</td>\n",
              "      <td>2020-05-02 12:53:40</td>\n",
              "      <td>NaN</td>\n",
              "      <td>Camin Larredya Jurançon Sec La Virada 2018</td>\n",
              "      <td>L'exotisme du nez est complété par d'élégantes...</td>\n",
              "      <td>publish</td>\n",
              "      <td>closed</td>\n",
              "      <td>closed</td>\n",
              "      <td>NaN</td>\n",
              "      <td>camin-larredya-jurancon-sec-la-virada-2018</td>\n",
              "      <td>2020-08-26 17:35:02</td>\n",
              "      <td>2020-08-26 15:35:02</td>\n",
              "      <td>NaN</td>\n",
              "      <td>0.0</td>\n",
              "      <td>https://www.bottle-neck.fr/?post_type=product&amp;...</td>\n",
              "      <td>0.0</td>\n",
              "      <td>product</td>\n",
              "      <td>NaN</td>\n",
              "      <td>0.0</td>\n",
              "      <td>0.0</td>\n",
              "    </tr>\n",
              "    <tr>\n",
              "      <th>893</th>\n",
              "      <td>7025</td>\n",
              "      <td>1</td>\n",
              "      <td>69.0</td>\n",
              "      <td>2</td>\n",
              "      <td>instock</td>\n",
              "      <td>15887</td>\n",
              "      <td>15887</td>\n",
              "      <td>0</td>\n",
              "      <td>0</td>\n",
              "      <td>0</td>\n",
              "      <td>0.0</td>\n",
              "      <td>0.0</td>\n",
              "      <td>taxable</td>\n",
              "      <td>NaN</td>\n",
              "      <td>2.0</td>\n",
              "      <td>2020-05-02 15:00:54</td>\n",
              "      <td>2020-05-02 13:00:54</td>\n",
              "      <td>NaN</td>\n",
              "      <td>Domaine Jamet Côte Rôtie Fructus Voluptas 2018</td>\n",
              "      <td>Pour cette cuvée, Jean-Paul Jamet recherche un...</td>\n",
              "      <td>publish</td>\n",
              "      <td>closed</td>\n",
              "      <td>closed</td>\n",
              "      <td>NaN</td>\n",
              "      <td>jamet-cote-rotie-fructus-voluptas-2018</td>\n",
              "      <td>2020-08-14 18:15:03</td>\n",
              "      <td>2020-08-14 16:15:03</td>\n",
              "      <td>NaN</td>\n",
              "      <td>0.0</td>\n",
              "      <td>https://www.bottle-neck.fr/?post_type=product&amp;...</td>\n",
              "      <td>0.0</td>\n",
              "      <td>product</td>\n",
              "      <td>NaN</td>\n",
              "      <td>0.0</td>\n",
              "      <td>0.0</td>\n",
              "    </tr>\n",
              "    <tr>\n",
              "      <th>894</th>\n",
              "      <td>7247</td>\n",
              "      <td>1</td>\n",
              "      <td>54.8</td>\n",
              "      <td>23</td>\n",
              "      <td>instock</td>\n",
              "      <td>13127-1</td>\n",
              "      <td>13127-1</td>\n",
              "      <td>0</td>\n",
              "      <td>0</td>\n",
              "      <td>0</td>\n",
              "      <td>0.0</td>\n",
              "      <td>0.0</td>\n",
              "      <td>taxable</td>\n",
              "      <td>NaN</td>\n",
              "      <td>2.0</td>\n",
              "      <td>2020-06-09 15:42:04</td>\n",
              "      <td>2020-06-09 13:42:04</td>\n",
              "      <td>NaN</td>\n",
              "      <td>Clos du Mont-Olivet Châteauneuf-du-Pape 2007</td>\n",
              "      <td>Nez gracieux, très élégant avec une touche flo...</td>\n",
              "      <td>publish</td>\n",
              "      <td>closed</td>\n",
              "      <td>closed</td>\n",
              "      <td>NaN</td>\n",
              "      <td>clos-du-mont-olivet-chateauneuf-du-pape-2007-2</td>\n",
              "      <td>2020-07-20 17:09:06</td>\n",
              "      <td>2020-07-20 15:09:06</td>\n",
              "      <td>NaN</td>\n",
              "      <td>0.0</td>\n",
              "      <td>https://www.bottle-neck.fr/?post_type=product&amp;...</td>\n",
              "      <td>0.0</td>\n",
              "      <td>product</td>\n",
              "      <td>NaN</td>\n",
              "      <td>0.0</td>\n",
              "      <td>0.0</td>\n",
              "    </tr>\n",
              "    <tr>\n",
              "      <th>895</th>\n",
              "      <td>7338</td>\n",
              "      <td>1</td>\n",
              "      <td>16.3</td>\n",
              "      <td>45</td>\n",
              "      <td>instock</td>\n",
              "      <td>16230</td>\n",
              "      <td>16230</td>\n",
              "      <td>0</td>\n",
              "      <td>0</td>\n",
              "      <td>0</td>\n",
              "      <td>0.0</td>\n",
              "      <td>0.0</td>\n",
              "      <td>taxable</td>\n",
              "      <td>NaN</td>\n",
              "      <td>2.0</td>\n",
              "      <td>2020-07-20 11:00:00</td>\n",
              "      <td>2020-07-20 09:00:00</td>\n",
              "      <td>NaN</td>\n",
              "      <td>Domaine Saint-Nicolas Vin de France Blanc Les ...</td>\n",
              "      <td>Issu d'un assemblage de chenin blanc et de cha...</td>\n",
              "      <td>publish</td>\n",
              "      <td>closed</td>\n",
              "      <td>closed</td>\n",
              "      <td>NaN</td>\n",
              "      <td>domaine-saint-nicolas-fiefs-vendeens-blanc-les...</td>\n",
              "      <td>2020-08-13 10:45:03</td>\n",
              "      <td>2020-08-13 08:45:03</td>\n",
              "      <td>NaN</td>\n",
              "      <td>0.0</td>\n",
              "      <td>https://www.bottle-neck.fr/?post_type=product&amp;...</td>\n",
              "      <td>0.0</td>\n",
              "      <td>product</td>\n",
              "      <td>NaN</td>\n",
              "      <td>0.0</td>\n",
              "      <td>0.0</td>\n",
              "    </tr>\n",
              "  </tbody>\n",
              "</table>\n",
              "<p>896 rows × 35 columns</p>\n",
              "</div>\n",
              "      <button class=\"colab-df-convert\" onclick=\"convertToInteractive('df-0d70f62d-7789-4cf3-bec4-40ba1d93af04')\"\n",
              "              title=\"Convert this dataframe to an interactive table.\"\n",
              "              style=\"display:none;\">\n",
              "        \n",
              "  <svg xmlns=\"http://www.w3.org/2000/svg\" height=\"24px\"viewBox=\"0 0 24 24\"\n",
              "       width=\"24px\">\n",
              "    <path d=\"M0 0h24v24H0V0z\" fill=\"none\"/>\n",
              "    <path d=\"M18.56 5.44l.94 2.06.94-2.06 2.06-.94-2.06-.94-.94-2.06-.94 2.06-2.06.94zm-11 1L8.5 8.5l.94-2.06 2.06-.94-2.06-.94L8.5 2.5l-.94 2.06-2.06.94zm10 10l.94 2.06.94-2.06 2.06-.94-2.06-.94-.94-2.06-.94 2.06-2.06.94z\"/><path d=\"M17.41 7.96l-1.37-1.37c-.4-.4-.92-.59-1.43-.59-.52 0-1.04.2-1.43.59L10.3 9.45l-7.72 7.72c-.78.78-.78 2.05 0 2.83L4 21.41c.39.39.9.59 1.41.59.51 0 1.02-.2 1.41-.59l7.78-7.78 2.81-2.81c.8-.78.8-2.07 0-2.86zM5.41 20L4 18.59l7.72-7.72 1.47 1.35L5.41 20z\"/>\n",
              "  </svg>\n",
              "      </button>\n",
              "      \n",
              "  <style>\n",
              "    .colab-df-container {\n",
              "      display:flex;\n",
              "      flex-wrap:wrap;\n",
              "      gap: 12px;\n",
              "    }\n",
              "\n",
              "    .colab-df-convert {\n",
              "      background-color: #E8F0FE;\n",
              "      border: none;\n",
              "      border-radius: 50%;\n",
              "      cursor: pointer;\n",
              "      display: none;\n",
              "      fill: #1967D2;\n",
              "      height: 32px;\n",
              "      padding: 0 0 0 0;\n",
              "      width: 32px;\n",
              "    }\n",
              "\n",
              "    .colab-df-convert:hover {\n",
              "      background-color: #E2EBFA;\n",
              "      box-shadow: 0px 1px 2px rgba(60, 64, 67, 0.3), 0px 1px 3px 1px rgba(60, 64, 67, 0.15);\n",
              "      fill: #174EA6;\n",
              "    }\n",
              "\n",
              "    [theme=dark] .colab-df-convert {\n",
              "      background-color: #3B4455;\n",
              "      fill: #D2E3FC;\n",
              "    }\n",
              "\n",
              "    [theme=dark] .colab-df-convert:hover {\n",
              "      background-color: #434B5C;\n",
              "      box-shadow: 0px 1px 3px 1px rgba(0, 0, 0, 0.15);\n",
              "      filter: drop-shadow(0px 1px 2px rgba(0, 0, 0, 0.3));\n",
              "      fill: #FFFFFF;\n",
              "    }\n",
              "  </style>\n",
              "\n",
              "      <script>\n",
              "        const buttonEl =\n",
              "          document.querySelector('#df-0d70f62d-7789-4cf3-bec4-40ba1d93af04 button.colab-df-convert');\n",
              "        buttonEl.style.display =\n",
              "          google.colab.kernel.accessAllowed ? 'block' : 'none';\n",
              "\n",
              "        async function convertToInteractive(key) {\n",
              "          const element = document.querySelector('#df-0d70f62d-7789-4cf3-bec4-40ba1d93af04');\n",
              "          const dataTable =\n",
              "            await google.colab.kernel.invokeFunction('convertToInteractive',\n",
              "                                                     [key], {});\n",
              "          if (!dataTable) return;\n",
              "\n",
              "          const docLinkHtml = 'Like what you see? Visit the ' +\n",
              "            '<a target=\"_blank\" href=https://colab.research.google.com/notebooks/data_table.ipynb>data table notebook</a>'\n",
              "            + ' to learn more about interactive tables.';\n",
              "          element.innerHTML = '';\n",
              "          dataTable['output_type'] = 'display_data';\n",
              "          await google.colab.output.renderOutput(dataTable, element);\n",
              "          const docLink = document.createElement('div');\n",
              "          docLink.innerHTML = docLinkHtml;\n",
              "          element.appendChild(docLink);\n",
              "        }\n",
              "      </script>\n",
              "    </div>\n",
              "  </div>\n",
              "  "
            ],
            "text/plain": [
              "     product_id  onsale_web  price  ...  post_mime_type comment_count turnover\n",
              "0          3847           1   24.2  ...             NaN           0.0    145.2\n",
              "1          3849           1   34.3  ...             NaN           0.0      0.0\n",
              "2          3850           1   20.8  ...             NaN           0.0      0.0\n",
              "3          4032           1   14.1  ...             NaN           0.0     42.3\n",
              "4          4039           1   46.0  ...             NaN           0.0      0.0\n",
              "..          ...         ...    ...  ...             ...           ...      ...\n",
              "891        6930           1    8.4  ...             NaN           0.0     42.0\n",
              "892        7023           1   27.5  ...             NaN           0.0      0.0\n",
              "893        7025           1   69.0  ...             NaN           0.0      0.0\n",
              "894        7247           1   54.8  ...             NaN           0.0      0.0\n",
              "895        7338           1   16.3  ...             NaN           0.0      0.0\n",
              "\n",
              "[896 rows x 35 columns]"
            ]
          },
          "metadata": {},
          "execution_count": 19
        }
      ]
    },
    {
      "cell_type": "markdown",
      "source": [
        "---\n",
        "> ### Chiffre d'affaire par produit\n",
        "---\n",
        "[Calcul du chiffre d'affaire par produit](#scrollTo=nGntr2d-xQYs&line=2&uniqifier=1)"
      ],
      "metadata": {
        "id": "SV7pNFrU_303"
      }
    },
    {
      "cell_type": "code",
      "source": [
        "ca"
      ],
      "metadata": {
        "colab": {
          "base_uri": "https://localhost:8080/",
          "height": 424
        },
        "id": "QZ-LVxLArtOT",
        "outputId": "662d97ac-509c-4699-b967-4ebd7ae67947"
      },
      "execution_count": 20,
      "outputs": [
        {
          "output_type": "execute_result",
          "data": {
            "text/html": [
              "\n",
              "  <div id=\"df-1194e6d6-de4f-4e34-bfed-8e0ecd83072d\">\n",
              "    <div class=\"colab-df-container\">\n",
              "      <div>\n",
              "<style scoped>\n",
              "    .dataframe tbody tr th:only-of-type {\n",
              "        vertical-align: middle;\n",
              "    }\n",
              "\n",
              "    .dataframe tbody tr th {\n",
              "        vertical-align: top;\n",
              "    }\n",
              "\n",
              "    .dataframe thead th {\n",
              "        text-align: right;\n",
              "    }\n",
              "</style>\n",
              "<table border=\"1\" class=\"dataframe\">\n",
              "  <thead>\n",
              "    <tr style=\"text-align: right;\">\n",
              "      <th></th>\n",
              "      <th>product_id</th>\n",
              "      <th>post_name</th>\n",
              "      <th>onsale_web</th>\n",
              "      <th>price</th>\n",
              "      <th>total_sales</th>\n",
              "      <th>turnover</th>\n",
              "    </tr>\n",
              "  </thead>\n",
              "  <tbody>\n",
              "    <tr>\n",
              "      <th>0</th>\n",
              "      <td>3847</td>\n",
              "      <td>pierre-jean-villa-saint-joseph-preface-2018</td>\n",
              "      <td>1</td>\n",
              "      <td>24.2</td>\n",
              "      <td>6.0</td>\n",
              "      <td>145.2</td>\n",
              "    </tr>\n",
              "    <tr>\n",
              "      <th>1</th>\n",
              "      <td>3849</td>\n",
              "      <td>pierre-jean-villa-saint-joseph-tilde-2017</td>\n",
              "      <td>1</td>\n",
              "      <td>34.3</td>\n",
              "      <td>0.0</td>\n",
              "      <td>0.0</td>\n",
              "    </tr>\n",
              "    <tr>\n",
              "      <th>2</th>\n",
              "      <td>3850</td>\n",
              "      <td>pierre-jean-villa-croze-hermitage-accroche-coe...</td>\n",
              "      <td>1</td>\n",
              "      <td>20.8</td>\n",
              "      <td>0.0</td>\n",
              "      <td>0.0</td>\n",
              "    </tr>\n",
              "    <tr>\n",
              "      <th>3</th>\n",
              "      <td>4032</td>\n",
              "      <td>pierre-jean-villa-igp-gamine-2018</td>\n",
              "      <td>1</td>\n",
              "      <td>14.1</td>\n",
              "      <td>3.0</td>\n",
              "      <td>42.3</td>\n",
              "    </tr>\n",
              "    <tr>\n",
              "      <th>4</th>\n",
              "      <td>4039</td>\n",
              "      <td>pierre-jean-villa-cote-rotie-carmina-2017</td>\n",
              "      <td>1</td>\n",
              "      <td>46.0</td>\n",
              "      <td>0.0</td>\n",
              "      <td>0.0</td>\n",
              "    </tr>\n",
              "    <tr>\n",
              "      <th>...</th>\n",
              "      <td>...</td>\n",
              "      <td>...</td>\n",
              "      <td>...</td>\n",
              "      <td>...</td>\n",
              "      <td>...</td>\n",
              "      <td>...</td>\n",
              "    </tr>\n",
              "    <tr>\n",
              "      <th>891</th>\n",
              "      <td>6930</td>\n",
              "      <td>mouthes-le-bihan-aime-chai-2015</td>\n",
              "      <td>1</td>\n",
              "      <td>8.4</td>\n",
              "      <td>5.0</td>\n",
              "      <td>42.0</td>\n",
              "    </tr>\n",
              "    <tr>\n",
              "      <th>892</th>\n",
              "      <td>7023</td>\n",
              "      <td>camin-larredya-jurancon-sec-la-virada-2018</td>\n",
              "      <td>1</td>\n",
              "      <td>27.5</td>\n",
              "      <td>0.0</td>\n",
              "      <td>0.0</td>\n",
              "    </tr>\n",
              "    <tr>\n",
              "      <th>893</th>\n",
              "      <td>7025</td>\n",
              "      <td>jamet-cote-rotie-fructus-voluptas-2018</td>\n",
              "      <td>1</td>\n",
              "      <td>69.0</td>\n",
              "      <td>0.0</td>\n",
              "      <td>0.0</td>\n",
              "    </tr>\n",
              "    <tr>\n",
              "      <th>894</th>\n",
              "      <td>7247</td>\n",
              "      <td>clos-du-mont-olivet-chateauneuf-du-pape-2007-2</td>\n",
              "      <td>1</td>\n",
              "      <td>54.8</td>\n",
              "      <td>0.0</td>\n",
              "      <td>0.0</td>\n",
              "    </tr>\n",
              "    <tr>\n",
              "      <th>895</th>\n",
              "      <td>7338</td>\n",
              "      <td>domaine-saint-nicolas-fiefs-vendeens-blanc-les...</td>\n",
              "      <td>1</td>\n",
              "      <td>16.3</td>\n",
              "      <td>0.0</td>\n",
              "      <td>0.0</td>\n",
              "    </tr>\n",
              "  </tbody>\n",
              "</table>\n",
              "<p>896 rows × 6 columns</p>\n",
              "</div>\n",
              "      <button class=\"colab-df-convert\" onclick=\"convertToInteractive('df-1194e6d6-de4f-4e34-bfed-8e0ecd83072d')\"\n",
              "              title=\"Convert this dataframe to an interactive table.\"\n",
              "              style=\"display:none;\">\n",
              "        \n",
              "  <svg xmlns=\"http://www.w3.org/2000/svg\" height=\"24px\"viewBox=\"0 0 24 24\"\n",
              "       width=\"24px\">\n",
              "    <path d=\"M0 0h24v24H0V0z\" fill=\"none\"/>\n",
              "    <path d=\"M18.56 5.44l.94 2.06.94-2.06 2.06-.94-2.06-.94-.94-2.06-.94 2.06-2.06.94zm-11 1L8.5 8.5l.94-2.06 2.06-.94-2.06-.94L8.5 2.5l-.94 2.06-2.06.94zm10 10l.94 2.06.94-2.06 2.06-.94-2.06-.94-.94-2.06-.94 2.06-2.06.94z\"/><path d=\"M17.41 7.96l-1.37-1.37c-.4-.4-.92-.59-1.43-.59-.52 0-1.04.2-1.43.59L10.3 9.45l-7.72 7.72c-.78.78-.78 2.05 0 2.83L4 21.41c.39.39.9.59 1.41.59.51 0 1.02-.2 1.41-.59l7.78-7.78 2.81-2.81c.8-.78.8-2.07 0-2.86zM5.41 20L4 18.59l7.72-7.72 1.47 1.35L5.41 20z\"/>\n",
              "  </svg>\n",
              "      </button>\n",
              "      \n",
              "  <style>\n",
              "    .colab-df-container {\n",
              "      display:flex;\n",
              "      flex-wrap:wrap;\n",
              "      gap: 12px;\n",
              "    }\n",
              "\n",
              "    .colab-df-convert {\n",
              "      background-color: #E8F0FE;\n",
              "      border: none;\n",
              "      border-radius: 50%;\n",
              "      cursor: pointer;\n",
              "      display: none;\n",
              "      fill: #1967D2;\n",
              "      height: 32px;\n",
              "      padding: 0 0 0 0;\n",
              "      width: 32px;\n",
              "    }\n",
              "\n",
              "    .colab-df-convert:hover {\n",
              "      background-color: #E2EBFA;\n",
              "      box-shadow: 0px 1px 2px rgba(60, 64, 67, 0.3), 0px 1px 3px 1px rgba(60, 64, 67, 0.15);\n",
              "      fill: #174EA6;\n",
              "    }\n",
              "\n",
              "    [theme=dark] .colab-df-convert {\n",
              "      background-color: #3B4455;\n",
              "      fill: #D2E3FC;\n",
              "    }\n",
              "\n",
              "    [theme=dark] .colab-df-convert:hover {\n",
              "      background-color: #434B5C;\n",
              "      box-shadow: 0px 1px 3px 1px rgba(0, 0, 0, 0.15);\n",
              "      filter: drop-shadow(0px 1px 2px rgba(0, 0, 0, 0.3));\n",
              "      fill: #FFFFFF;\n",
              "    }\n",
              "  </style>\n",
              "\n",
              "      <script>\n",
              "        const buttonEl =\n",
              "          document.querySelector('#df-1194e6d6-de4f-4e34-bfed-8e0ecd83072d button.colab-df-convert');\n",
              "        buttonEl.style.display =\n",
              "          google.colab.kernel.accessAllowed ? 'block' : 'none';\n",
              "\n",
              "        async function convertToInteractive(key) {\n",
              "          const element = document.querySelector('#df-1194e6d6-de4f-4e34-bfed-8e0ecd83072d');\n",
              "          const dataTable =\n",
              "            await google.colab.kernel.invokeFunction('convertToInteractive',\n",
              "                                                     [key], {});\n",
              "          if (!dataTable) return;\n",
              "\n",
              "          const docLinkHtml = 'Like what you see? Visit the ' +\n",
              "            '<a target=\"_blank\" href=https://colab.research.google.com/notebooks/data_table.ipynb>data table notebook</a>'\n",
              "            + ' to learn more about interactive tables.';\n",
              "          element.innerHTML = '';\n",
              "          dataTable['output_type'] = 'display_data';\n",
              "          await google.colab.output.renderOutput(dataTable, element);\n",
              "          const docLink = document.createElement('div');\n",
              "          docLink.innerHTML = docLinkHtml;\n",
              "          element.appendChild(docLink);\n",
              "        }\n",
              "      </script>\n",
              "    </div>\n",
              "  </div>\n",
              "  "
            ],
            "text/plain": [
              "     product_id  ... turnover\n",
              "0          3847  ...    145.2\n",
              "1          3849  ...      0.0\n",
              "2          3850  ...      0.0\n",
              "3          4032  ...     42.3\n",
              "4          4039  ...      0.0\n",
              "..          ...  ...      ...\n",
              "891        6930  ...     42.0\n",
              "892        7023  ...      0.0\n",
              "893        7025  ...      0.0\n",
              "894        7247  ...      0.0\n",
              "895        7338  ...      0.0\n",
              "\n",
              "[896 rows x 6 columns]"
            ]
          },
          "metadata": {},
          "execution_count": 20
        }
      ]
    },
    {
      "cell_type": "markdown",
      "source": [
        "---\n",
        "> ### Chiffre d'affaire en ligne\n",
        "---\n",
        "[Calcul du Chiffre d'affaire en ligne](#scrollTo=dwOAg5jrtGl2&line=1&uniqifier=1)"
      ],
      "metadata": {
        "id": "EHpoSRApAXQo"
      }
    },
    {
      "cell_type": "code",
      "source": [
        "print(turnover_online)"
      ],
      "metadata": {
        "colab": {
          "base_uri": "https://localhost:8080/"
        },
        "id": "dUJYCPemr3Ua",
        "outputId": "4b4488b8-7ed7-404b-b2f4-99f43deeb752"
      },
      "execution_count": 21,
      "outputs": [
        {
          "output_type": "stream",
          "name": "stdout",
          "text": [
            "70568.6\n"
          ]
        }
      ]
    },
    {
      "cell_type": "markdown",
      "source": [
        "---\n",
        "> ### Répartition des prix\n",
        "---\n",
        "[Création du graphique répartion des prix](#scrollTo=5XuD8uES_19X&line=6&uniqifier=1)\n"
      ],
      "metadata": {
        "id": "0rjgFVUnDFrd"
      }
    },
    {
      "cell_type": "code",
      "source": [
        "repartition_des_prix"
      ],
      "metadata": {
        "colab": {
          "base_uri": "https://localhost:8080/",
          "height": 534
        },
        "id": "MXm8pDFbA85K",
        "outputId": "6dd676e0-b65d-4526-b5e6-cadb84636866"
      },
      "execution_count": 22,
      "outputs": [
        {
          "output_type": "execute_result",
          "data": {
            "image/png": "[encoded data removed]",
            "text/plain": [
              "<Figure size 864x648 with 1 Axes>"
            ]
          },
          "metadata": {},
          "execution_count": 22
        }
      ]
    },
    {
      "cell_type": "markdown",
      "source": [
        "---\n",
        "> ### Visualisation des Outliers\n",
        "---\n",
        "[Création du Boxplot](#scrollTo=nGhqsYgEHxIo&line=2&uniqifier=1)"
      ],
      "metadata": {
        "id": "XT7BPVJqDaXc"
      }
    },
    {
      "cell_type": "code",
      "source": [
        "outliers_prix"
      ],
      "metadata": {
        "colab": {
          "base_uri": "https://localhost:8080/",
          "height": 551
        },
        "id": "t7L5Vc7TDRuh",
        "outputId": "92b3d83f-f9a4-4574-a420-bce5dd8546bb"
      },
      "execution_count": 23,
      "outputs": [
        {
          "output_type": "execute_result",
          "data": {
            "image/png": "[encoded data removed]",
            "text/plain": [
              "<Figure size 864x648 with 1 Axes>"
            ]
          },
          "metadata": {},
          "execution_count": 23
        }
      ]
    },
    {
      "cell_type": "markdown",
      "source": [
        "---\n",
        "> ### Listes des Outliers\n",
        "---\n",
        "[Calcul des définitions des outliers](#scrollTo=70cVYyx7KKSy&line=21&uniqifier=1)"
      ],
      "metadata": {
        "id": "anbI-KjQFnVK"
      }
    },
    {
      "cell_type": "code",
      "source": [
        "print(\"IQR\")\n",
        "print(outliers_IQR(df_bottleneck.price))\n",
        "print(\"Outliers à partir de:\")\n",
        "print(since_iqr)\n",
        "print(\"-------\")\n",
        "print(\"Z-score\")\n",
        "print(z_score(df_bottleneck.price))\n",
        "print(\"Outliers à partir de:\")\n",
        "print(since_z_score)"
      ],
      "metadata": {
        "colab": {
          "base_uri": "https://localhost:8080/"
        },
        "id": "PCy8bK4gDlQM",
        "outputId": "4076875f-09b2-4312-cb9d-dbd75010ec71"
      },
      "execution_count": 24,
      "outputs": [
        {
          "output_type": "stream",
          "name": "stdout",
          "text": [
            "IQR\n",
            "[86.1, 86.1, 144.0, 144.0, 84.7, 84.7, 92.0, 92.0, 100.0, 88.4, 225.0, 126.5, 85.6, 176.0, 108.5, 157.0, 104.0, 109.6, 102.3, 137.0, 217.5, 105.0, 105.0, 112.0, 86.8, 92.0, 124.8, 175.0, 191.3, 93.0, 122.0, 114.0, 135.0, 105.6, 116.4, 115.0, 121.0, 99.0, 115.0, 121.0]\n",
            "Outliers à partir de:\n",
            "84.7\n",
            "-------\n",
            "Z-score\n",
            "[144.0, 144.0, 225.0, 126.5, 176.0, 157.0, 137.0, 217.5, 112.0, 124.8, 175.0, 191.3, 122.0, 114.0, 135.0, 116.4, 115.0, 121.0, 115.0, 121.0]\n",
            "Outliers à partir de:\n",
            "112.0\n"
          ]
        }
      ]
    },
    {
      "cell_type": "markdown",
      "source": [
        "---\n",
        "> ### Produit à vérifier\n",
        "---\n",
        "[Création des listes](#scrollTo=4VqetTeIWg3b&line=4&uniqifier=1)"
      ],
      "metadata": {
        "id": "26oBKL63HlMC"
      }
    },
    {
      "cell_type": "code",
      "source": [
        "outliers_prix_iqr.shape"
      ],
      "metadata": {
        "colab": {
          "base_uri": "https://localhost:8080/"
        },
        "id": "b71DPo3VGAiC",
        "outputId": "fe0d4afe-5727-4d08-f583-435cdd20333b"
      },
      "execution_count": 25,
      "outputs": [
        {
          "output_type": "execute_result",
          "data": {
            "text/plain": [
              "(40, 35)"
            ]
          },
          "metadata": {},
          "execution_count": 25
        }
      ]
    },
    {
      "cell_type": "code",
      "source": [
        "outliers_prix_z_score.shape"
      ],
      "metadata": {
        "colab": {
          "base_uri": "https://localhost:8080/"
        },
        "id": "g_bfbD1rHsKa",
        "outputId": "424b3240-5130-497d-9be5-3e27f8ad3f3e"
      },
      "execution_count": 26,
      "outputs": [
        {
          "output_type": "execute_result",
          "data": {
            "text/plain": [
              "(20, 35)"
            ]
          },
          "metadata": {},
          "execution_count": 26
        }
      ]
    },
    {
      "cell_type": "code",
      "source": [
        ""
      ],
      "metadata": {
        "id": "Ii39GV0xH2tY"
      },
      "execution_count": 26,
      "outputs": []
    }
  ]
}