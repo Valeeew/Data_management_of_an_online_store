{
  "nbformat": 4,
  "nbformat_minor": 0,
  "metadata": {
    "colab": {
      "name": "Data_management_of_an_online_store.ipynb",
      "provenance": [],
      "collapsed_sections": [],
      "mount_file_id": "1dwVFN0594aSoB4oDt8fs4PFTGFq-spGd",
      "authorship_tag": "ABX9TyNmZpT1uQD2ngFZE/fV7BlA",
      "include_colab_link": true
    },
    "kernelspec": {
      "name": "python3",
      "display_name": "Python 3"
    },
    "language_info": {
      "name": "python"
    }
  },
  "cells": [
    {
      "cell_type": "markdown",
      "metadata": {
        "id": "view-in-github",
        "colab_type": "text"
      },
      "source": [
        "<a href=\"https://colab.research.google.com/github/Valeeew/Data_management_of_an_online_store/blob/master/Data_management_of_an_online_store.ipynb\" target=\"_parent\"><img src=\"https://colab.research.google.com/assets/colab-badge.svg\" alt=\"Open In Colab\"/></a>"
      ]
    },
    {
      "cell_type": "markdown",
      "source": [
        "# Management & Optimisation d'une boutique en ligne\n",
        "## Par Valentin MONTEIRO \n",
        "---\n",
        "### Sommaire\n",
        "> ### IMPORT\n",
        "- [Import des library](#scrollTo=tAgUgPb2dUt3&line=1&uniqifier=1)\n",
        "- [Import des DATA](#scrollTo=LGGkJyQgd2Vc&line=3&uniqifier=1)\n",
        "- Traitement des DATA\n",
        ">> - [df_web](#scrollTo=THwlX1u91f2t&line=4&uniqifier=1)\n",
        ">> - [df_liaison](#scrollTo=ykl7KSWzVFsA&line=1&uniqifier=1)❓\n",
        "- [Lexique des données](#scrollTo=oG89DAzeosCW&line=1&uniqifier=1)\n",
        "\n",
        "> ### Objectifs\n",
        "- [Objectifs](#scrollTo=zVQGfyVrRI86&line=15&uniqifier=1)\n",
        "\n",
        "> ### Code\n",
        ">> - [Rapprocher les 2 exports](#scrollTo=VpQfY-tkWMYh&line=2&uniqifier=1)\n",
        ">> - [Calcul CA (turnover) par produit](#scrollTo=nGntr2d-xQYs&line=1&uniqifier=1)\n",
        ">> - [Calcul du CA (turnover) des ventes en ligne](#scrollTo=dwOAg5jrtGl2&line=1&uniqifier=1)\n",
        "\n"
      ],
      "metadata": {
        "id": "0OJV1Wwle0mW"
      }
    },
    {
      "cell_type": "markdown",
      "source": [
        "## IMPORT"
      ],
      "metadata": {
        "id": "eTEr3fFai_Vb"
      }
    },
    {
      "cell_type": "markdown",
      "source": [
        "---\n",
        "> ### Import des Libraries\n",
        "---\n",
        "\n"
      ],
      "metadata": {
        "id": "GwyznVc0hr3T"
      }
    },
    {
      "cell_type": "code",
      "source": [
        "import pandas as pd\n",
        "import matplotlib.pyplot as plt\n",
        "import numpy as np\n",
        "import seaborn as sns"
      ],
      "metadata": {
        "id": "tAgUgPb2dUt3"
      },
      "execution_count": 1,
      "outputs": []
    },
    {
      "cell_type": "markdown",
      "source": [
        "---\n",
        "> ### Import des DATA from Github\n",
        "---\n",
        "\n",
        "\n"
      ],
      "metadata": {
        "id": "3w9KiwHLl4xR"
      }
    },
    {
      "cell_type": "code",
      "source": [
        "# Clone the entire repo & import DATA\n",
        "!git clone -l -s git://github.com/Valeeew/Data_management_of_an_online_store cloned-repo\n",
        "%cd cloned-repo\n",
        "!ls\n",
        "\n",
        "# Enregistrement des DATA dans les DATAframe\n",
        "df_erp = pd.read_excel(\"erp.xlsx\")\n",
        "df_liaison = pd.read_excel(\"liaison.xlsx\")\n",
        "df_web = pd.read_excel(\"web.xlsx\")"
      ],
      "metadata": {
        "colab": {
          "base_uri": "https://localhost:8080/"
        },
        "id": "LGGkJyQgd2Vc",
        "outputId": "322b1bbe-0546-41ad-a463-f849791f9271"
      },
      "execution_count": 2,
      "outputs": [
        {
          "output_type": "stream",
          "name": "stdout",
          "text": [
            "fatal: destination path 'cloned-repo' already exists and is not an empty directory.\n",
            "/content/cloned-repo\n",
            "cloned-repo\t\t\t\t  erp.csv   liaison.csv   web.csv\n",
            "Data_management_of_an_online_store.ipynb  erp.xlsx  liaison.xlsx  web.xlsx\n"
          ]
        },
        {
          "output_type": "stream",
          "name": "stderr",
          "text": [
            "/usr/local/lib/python3.7/dist-packages/openpyxl/worksheet/_reader.py:296: UserWarning: Unknown extension is not supported and will be removed\n",
            "  warn(msg)\n"
          ]
        }
      ]
    },
    {
      "cell_type": "markdown",
      "source": [
        "---\n",
        "> ### Traitement des DATA\n",
        "---\n",
        "\n",
        "\n"
      ],
      "metadata": {
        "id": "gWgr8IqLtxSJ"
      }
    },
    {
      "cell_type": "code",
      "source": [
        "!pip install --upgrade \"openpyxl== 3.0.0\""
      ],
      "metadata": {
        "colab": {
          "base_uri": "https://localhost:8080/",
          "height": 382
        },
        "id": "v3PDohzSuDZu",
        "outputId": "b9770b14-f8a8-4a08-8ec3-360dcf784e3d"
      },
      "execution_count": 19,
      "outputs": [
        {
          "output_type": "stream",
          "name": "stdout",
          "text": [
            "Collecting openpyxl==3.0.0\n",
            "  Downloading openpyxl-3.0.0.tar.gz (172 kB)\n",
            "\u001b[?25l\r\u001b[K     |██                              | 10 kB 23.8 MB/s eta 0:00:01\r\u001b[K     |███▉                            | 20 kB 16.0 MB/s eta 0:00:01\r\u001b[K     |█████▊                          | 30 kB 10.8 MB/s eta 0:00:01\r\u001b[K     |███████▋                        | 40 kB 9.2 MB/s eta 0:00:01\r\u001b[K     |█████████▌                      | 51 kB 5.5 MB/s eta 0:00:01\r\u001b[K     |███████████▍                    | 61 kB 5.7 MB/s eta 0:00:01\r\u001b[K     |█████████████▎                  | 71 kB 5.6 MB/s eta 0:00:01\r\u001b[K     |███████████████▏                | 81 kB 6.3 MB/s eta 0:00:01\r\u001b[K     |█████████████████               | 92 kB 6.1 MB/s eta 0:00:01\r\u001b[K     |███████████████████             | 102 kB 5.2 MB/s eta 0:00:01\r\u001b[K     |████████████████████▉           | 112 kB 5.2 MB/s eta 0:00:01\r\u001b[K     |██████████████████████▊         | 122 kB 5.2 MB/s eta 0:00:01\r\u001b[K     |████████████████████████▋       | 133 kB 5.2 MB/s eta 0:00:01\r\u001b[K     |██████████████████████████▌     | 143 kB 5.2 MB/s eta 0:00:01\r\u001b[K     |████████████████████████████▌   | 153 kB 5.2 MB/s eta 0:00:01\r\u001b[K     |██████████████████████████████▍ | 163 kB 5.2 MB/s eta 0:00:01\r\u001b[K     |████████████████████████████████| 172 kB 5.2 MB/s \n",
            "\u001b[?25hRequirement already satisfied: jdcal in /usr/local/lib/python3.7/dist-packages (from openpyxl==3.0.0) (1.4.1)\n",
            "Requirement already satisfied: et_xmlfile in /usr/local/lib/python3.7/dist-packages (from openpyxl==3.0.0) (1.1.0)\n",
            "Building wheels for collected packages: openpyxl\n",
            "  Building wheel for openpyxl (setup.py) ... \u001b[?25l\u001b[?25hdone\n",
            "  Created wheel for openpyxl: filename=openpyxl-3.0.0-py2.py3-none-any.whl size=241207 sha256=3b62b9af568332be49cbf3447f4c8ea49e76fae61e2c7f60634cb4af82e90815\n",
            "  Stored in directory: /root/.cache/pip/wheels/c7/64/ff/ce98f6e1d2701ae8e216c875da62feed2839ac8a3cae0ab8af\n",
            "Successfully built openpyxl\n",
            "Installing collected packages: openpyxl\n",
            "  Attempting uninstall: openpyxl\n",
            "    Found existing installation: openpyxl 2.5.9\n",
            "    Uninstalling openpyxl-2.5.9:\n",
            "      Successfully uninstalled openpyxl-2.5.9\n",
            "Successfully installed openpyxl-3.0.0\n"
          ]
        },
        {
          "output_type": "display_data",
          "data": {
            "application/vnd.colab-display-data+json": {
              "pip_warning": {
                "packages": [
                  "openpyxl"
                ]
              }
            }
          },
          "metadata": {}
        }
      ]
    },
    {
      "cell_type": "markdown",
      "source": [
        "#### df_web"
      ],
      "metadata": {
        "id": "wdQhhYS1U2DM"
      }
    },
    {
      "cell_type": "code",
      "source": [
        "# Traitement des données web inutiles\n",
        "df_web = df_web.drop([\"virtual\",\"downloadable\",\"rating_count\",\"average_rating\",\"tax_class\",\"post_content\",\"comment_status\",\"ping_status\",\"post_password\",\"post_content_filtered\",\"post_parent\",\"menu_order\",\"comment_count\"], axis = 1)\n",
        "# Remplacement des données NaN dans df_web.total_sales\n",
        "df_web.total_sales = df_web.total_sales.fillna(0)\n",
        "# Remplacement des données tax_status ➡️ taxable = 1 et Nan = 0\n",
        "# Suppression des lignes qui ne sont pas taxées\n",
        "df_web = df_web[df_web.tax_status.notnull()]\n",
        "#df_web.tax_status = df_web.tax_status.replace(\"taxable\",1)"
      ],
      "metadata": {
        "id": "THwlX1u91f2t"
      },
      "execution_count": 3,
      "outputs": []
    },
    {
      "cell_type": "markdown",
      "source": [
        "#### df_liaison"
      ],
      "metadata": {
        "id": "q0qUljylU9O1"
      }
    },
    {
      "cell_type": "code",
      "source": [
        "#Suppression des valeurs NaN dans id_web ❓\n",
        "#df_liaison = df_liaison[df_liaison.id_web.notnull()]"
      ],
      "metadata": {
        "id": "ykl7KSWzVFsA"
      },
      "execution_count": 4,
      "outputs": []
    },
    {
      "cell_type": "markdown",
      "source": [
        "---\n",
        "> ### Lexique des données\n",
        "---\n",
        "\n",
        "\n",
        "\n"
      ],
      "metadata": {
        "id": "oG89DAzeosCW"
      }
    },
    {
      "cell_type": "markdown",
      "source": [
        "#### df_erp\n",
        "\n",
        "| Variable | Description | Type | PK |\n",
        "| :--------------- |:---------------| :-----| :---|\n",
        "| product_id | références produit | int | ✅ |\n",
        "| onsale_web | vendu en ligne | boolean ||\n",
        "| price | prix de vente | float ||\n",
        "| stock_quantity | quantité dans le stock | int ||\n",
        "|stock_status | État de stock | str ||\n",
        "\n",
        "#### df_web\n",
        "\n",
        "| Variable | Description | Type | PK |\n",
        "| :--------------- |:---------------| :-----| :---|\n",
        "| sku | références produit | int | ✅ |\n",
        "| total_sales | nombre de vente | Int ||\n",
        "| tax_status | produit taxable ou non | Boolean ||\n",
        "| post_author | auteur de l'article | int ||\n",
        "| post_date | Date de publication | date ||\n",
        "| post_date_gmt | Date de publication h GMT| date ||\n",
        "| post_title | titre de l'article | str ||\n",
        "| post_excerpt | description de l'article | str ||\n",
        "| post_status | statut de l'article | str ||\n",
        "| post_name | Nom de l'article | str ||\n",
        "| post_modified | Date dernière MAJ | date ||\n",
        "| post_modified_gmt | Date dernière MAJ h GMT | date ||\n",
        "| guid | lien | str ||\n",
        "| post_type | type de l'article | str ||\n",
        "| post_mime_type | Chemin de l'image | str ||"
      ],
      "metadata": {
        "id": "mf8VrEjXyfDT"
      }
    },
    {
      "cell_type": "markdown",
      "source": [
        "---\n",
        "> ### Objectifs\n",
        "---"
      ],
      "metadata": {
        "id": "Png2fUGNzHuh"
      }
    },
    {
      "cell_type": "markdown",
      "source": [
        "- Rapprocher les 2 exports\n",
        "- Chiffre d’affaires par produit\n",
        "- Total du chiffre d’affaires réalisé en ligne.\n",
        "- Analyser la variable price\n",
        "- - Détecter d’éventuelles valeurs aberrantes\n",
        "- - Lister les valeur aberrantes \n",
        "- - Faire une représentation graphique"
      ],
      "metadata": {
        "id": "zVQGfyVrRI86"
      }
    },
    {
      "cell_type": "markdown",
      "source": [
        "---\n",
        "> ### Code\n",
        "---"
      ],
      "metadata": {
        "id": "yjP90-Fe0RPf"
      }
    },
    {
      "cell_type": "markdown",
      "source": [
        "---\n",
        ">#### Rapprocher les 2 exports\n",
        "---"
      ],
      "metadata": {
        "id": "rPtCtg1jbVi0"
      }
    },
    {
      "cell_type": "code",
      "source": [
        "# Merge df_erp & df_liaison\n",
        "df_erp_liaison = df_erp.merge(df_liaison, how=\"inner\", right_on=\"product_id\", left_on=\"product_id\")\n",
        "# Merge df_erp_liaison & df_web\n",
        "df_bottleneck = df_erp_liaison.merge(df_web, how=\"inner\", right_on=\"sku\", left_on=\"id_web\")"
      ],
      "metadata": {
        "id": "VpQfY-tkWMYh"
      },
      "execution_count": 5,
      "outputs": []
    },
    {
      "cell_type": "markdown",
      "source": [
        "---\n",
        ">#### Calcul du CA (turnover) produit\n",
        "---"
      ],
      "metadata": {
        "id": "UmxGQZJMbmPX"
      }
    },
    {
      "cell_type": "code",
      "source": [
        "df_bottleneck[\"turnover\"] = df_bottleneck.price * df_bottleneck.total_sales"
      ],
      "metadata": {
        "id": "nGntr2d-xQYs"
      },
      "execution_count": 6,
      "outputs": []
    },
    {
      "cell_type": "markdown",
      "source": [
        "---\n",
        "> #### Calcul du CA (turnover) des vente en ligne\n",
        "---"
      ],
      "metadata": {
        "id": "Z-BSM-uD0CZP"
      }
    },
    {
      "cell_type": "code",
      "source": [
        "df_bottleneck_online = df_bottleneck[(df_bottleneck.onsale_web == 1) == True]\n",
        "turnover_online = df_bottleneck_online.turnover.sum()"
      ],
      "metadata": {
        "id": "dwOAg5jrtGl2"
      },
      "execution_count": 7,
      "outputs": []
    },
    {
      "cell_type": "code",
      "source": [
        "repartition_des_prix = df_bottleneck.price.value_counts()\n",
        "prix = df_bottleneck.price.unique()\n",
        "repartition_des_prix_avant = plt.figure(figsize=(12,9))\n",
        "ax = repartition_des_prix_avant.add_axes([0.15,0.15,0.75,0.75])\n",
        "ax.hist2d(prix, repartition_des_prix, bins=(np.arange(0, 225, 1), np.arange(0 , 35, 1)))\n",
        "\n",
        "plt.show(repartition_des_prix_avant)"
      ],
      "metadata": {
        "id": "5XuD8uES_19X",
        "colab": {
          "base_uri": "https://localhost:8080/",
          "height": 534
        },
        "outputId": "194d75db-4419-44e0-a498-7e7a387650c5"
      },
      "execution_count": 8,
      "outputs": [
        {
          "output_type": "display_data",
          "data": {
            "image/png": "[encoded data removed]",
            "text/plain": [
              "<Figure size 864x648 with 1 Axes>"
            ]
          },
          "metadata": {
            "needs_background": "light"
          }
        }
      ]
    },
    {
      "cell_type": "code",
      "source": [
        "repartition_des_prix_avant"
      ],
      "metadata": {
        "id": "QTCiMWNaA7Nm",
        "colab": {
          "base_uri": "https://localhost:8080/",
          "height": 534
        },
        "outputId": "726f7f83-518e-49bf-c51f-cdde5e8eaaba"
      },
      "execution_count": 9,
      "outputs": [
        {
          "output_type": "execute_result",
          "data": {
            "image/png": "[encoded data removed]",
            "text/plain": [
              "<Figure size 864x648 with 1 Axes>"
            ]
          },
          "metadata": {},
          "execution_count": 9
        }
      ]
    },
    {
      "cell_type": "code",
      "source": [
        "sns.boxplot(x = df_bottleneck.price)"
      ],
      "metadata": {
        "id": "nGhqsYgEHxIo",
        "colab": {
          "base_uri": "https://localhost:8080/",
          "height": 296
        },
        "outputId": "e92064c1-484b-4d92-f050-53055a55f7ac"
      },
      "execution_count": 10,
      "outputs": [
        {
          "output_type": "execute_result",
          "data": {
            "text/plain": [
              "<matplotlib.axes._subplots.AxesSubplot at 0x7f14880094d0>"
            ]
          },
          "metadata": {},
          "execution_count": 10
        },
        {
          "output_type": "display_data",
          "data": {
            "image/png": "[encoded data removed]",
            "text/plain": [
              "<Figure size 432x288 with 1 Axes>"
            ]
          },
          "metadata": {
            "needs_background": "light"
          }
        }
      ]
    },
    {
      "cell_type": "code",
      "source": [
        "def z_score(data):\n",
        "  resultat_outliers = []\n",
        "  threshold = 3\n",
        "  mean = np.mean(data)\n",
        "  std = np.std(data)\n",
        "\n",
        "  for i in data:\n",
        "    score = (i-mean)/std\n",
        "    if np.abs(score) > threshold:\n",
        "      resultat_outliers.append(i)\n",
        "  return resultat_outliers\n"
      ],
      "metadata": {
        "id": "70cVYyx7KKSy"
      },
      "execution_count": 11,
      "outputs": []
    },
    {
      "cell_type": "code",
      "source": [
        "outliers_prix_z_score = z_score(df_bottleneck.price)"
      ],
      "metadata": {
        "id": "4VqetTeIWg3b"
      },
      "execution_count": 12,
      "outputs": []
    },
    {
      "cell_type": "code",
      "source": [
        "outliers_prix"
      ],
      "metadata": {
        "id": "ysGf1O8TWr2P",
        "colab": {
          "base_uri": "https://localhost:8080/"
        },
        "outputId": "a4c181c9-6756-49e5-8700-6fcc34e3142c"
      },
      "execution_count": 13,
      "outputs": [
        {
          "output_type": "execute_result",
          "data": {
            "text/plain": [
              "[144.0,\n",
              " 144.0,\n",
              " 225.0,\n",
              " 126.5,\n",
              " 176.0,\n",
              " 157.0,\n",
              " 137.0,\n",
              " 217.5,\n",
              " 112.0,\n",
              " 124.8,\n",
              " 175.0,\n",
              " 191.3,\n",
              " 122.0,\n",
              " 114.0,\n",
              " 135.0,\n",
              " 116.4,\n",
              " 115.0,\n",
              " 121.0,\n",
              " 115.0,\n",
              " 121.0]"
            ]
          },
          "metadata": {},
          "execution_count": 13
        }
      ]
    },
    {
      "cell_type": "code",
      "source": [
        "def outliers_IQR(data):\n",
        "  q1 = np.quantile(data, 0.25)\n",
        "  q3 = np.quantile(data, 0.75)\n",
        "  resultat_outliers = []\n",
        "  iqr = q3-q1\n",
        "  lower_range = q1 - 1.5*iqr\n",
        "  upper_range = q3 + 1.5*iqr\n",
        "  for i in data:\n",
        "    if i < lower_range  or i > upper_range:\n",
        "      resultat_outliers.append(i)\n",
        "  return resultat_outliers\n",
        "  "
      ],
      "metadata": {
        "id": "NAzkTnB0Wt-f"
      },
      "execution_count": 37,
      "outputs": []
    },
    {
      "cell_type": "code",
      "source": [
        "outliers_IQR(df_bottleneck.price)\n"
      ],
      "metadata": {
        "colab": {
          "base_uri": "https://localhost:8080/"
        },
        "id": "G1T8nOXJnHOO",
        "outputId": "ef0d07ea-0fab-4f16-bce7-80d5f5744240"
      },
      "execution_count": 38,
      "outputs": [
        {
          "output_type": "execute_result",
          "data": {
            "text/plain": [
              "[86.1,\n",
              " 86.1,\n",
              " 144.0,\n",
              " 144.0,\n",
              " 84.7,\n",
              " 84.7,\n",
              " 92.0,\n",
              " 92.0,\n",
              " 100.0,\n",
              " 88.4,\n",
              " 225.0,\n",
              " 126.5,\n",
              " 85.6,\n",
              " 176.0,\n",
              " 108.5,\n",
              " 157.0,\n",
              " 104.0,\n",
              " 109.6,\n",
              " 102.3,\n",
              " 137.0,\n",
              " 217.5,\n",
              " 105.0,\n",
              " 105.0,\n",
              " 112.0,\n",
              " 86.8,\n",
              " 92.0,\n",
              " 124.8,\n",
              " 175.0,\n",
              " 191.3,\n",
              " 93.0,\n",
              " 122.0,\n",
              " 114.0,\n",
              " 135.0,\n",
              " 105.6,\n",
              " 116.4,\n",
              " 115.0,\n",
              " 121.0,\n",
              " 99.0,\n",
              " 115.0,\n",
              " 121.0]"
            ]
          },
          "metadata": {},
          "execution_count": 38
        }
      ]
    },
    {
      "cell_type": "code",
      "source": [
        ""
      ],
      "metadata": {
        "id": "QrK09phgoRZZ"
      },
      "execution_count": null,
      "outputs": []
    }
  ]
}