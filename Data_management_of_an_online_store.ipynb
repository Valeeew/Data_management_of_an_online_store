{
  "nbformat": 4,
  "nbformat_minor": 0,
  "metadata": {
    "colab": {
      "name": "Data_management_of_an_online_store.ipynb",
      "provenance": [],
      "collapsed_sections": [],
      "mount_file_id": "1dwVFN0594aSoB4oDt8fs4PFTGFq-spGd",
      "authorship_tag": "ABX9TyP5Sn70K8IXjyybolosV49b",
      "include_colab_link": true
    },
    "kernelspec": {
      "name": "python3",
      "display_name": "Python 3"
    },
    "language_info": {
      "name": "python"
    }
  },
  "cells": [
    {
      "cell_type": "markdown",
      "metadata": {
        "id": "view-in-github",
        "colab_type": "text"
      },
      "source": [
        "<a href=\"https://colab.research.google.com/github/Valeeew/Data_management_of_an_online_store/blob/master/Data_management_of_an_online_store.ipynb\" target=\"_parent\"><img src=\"https://colab.research.google.com/assets/colab-badge.svg\" alt=\"Open In Colab\"/></a>"
      ]
    },
    {
      "cell_type": "markdown",
      "source": [
        "# Management & Optimisation d'une boutique en ligne\n",
        "## Par Valentin MONTEIRO \n",
        "---\n",
        "### Sommaire\n",
        "> ### IMPORT\n",
        "- [Import des library](#scrollTo=tAgUgPb2dUt3&line=1&uniqifier=1)\n",
        "- [Import des DATA](#scrollTo=LGGkJyQgd2Vc&line=3&uniqifier=1)\n",
        "- [Traitement des DATA](#scrollTo=THwlX1u91f2t&line=4&uniqifier=1)  \n",
        "- [Lexique des données](#scrollTo=oG89DAzeosCW&line=1&uniqifier=1)\n",
        "\n",
        "> ### Mission\n",
        "- [Mission](#scrollTo=zVQGfyVrRI86&line=15&uniqifier=1)\n",
        "\n"
      ],
      "metadata": {
        "id": "0OJV1Wwle0mW"
      }
    },
    {
      "cell_type": "markdown",
      "source": [
        "## IMPORT"
      ],
      "metadata": {
        "id": "eTEr3fFai_Vb"
      }
    },
    {
      "cell_type": "markdown",
      "source": [
        "---\n",
        "> ### Import des Libraries\n",
        "---\n",
        "\n"
      ],
      "metadata": {
        "id": "GwyznVc0hr3T"
      }
    },
    {
      "cell_type": "code",
      "source": [
        "import pandas as pd"
      ],
      "metadata": {
        "id": "tAgUgPb2dUt3"
      },
      "execution_count": 1,
      "outputs": []
    },
    {
      "cell_type": "markdown",
      "source": [
        "---\n",
        "> ### Import des DATA from Github\n",
        "---\n",
        "\n",
        "\n"
      ],
      "metadata": {
        "id": "3w9KiwHLl4xR"
      }
    },
    {
      "cell_type": "code",
      "source": [
        "# Clone the entire repo & import DATA\n",
        "!git clone -l -s git://github.com/Valeeew/Data_management_of_an_online_store cloned-repo\n",
        "%cd cloned-repo\n",
        "!ls\n",
        "\n",
        "# Enregistrement des DATA dans les DATAframe\n",
        "df_erp = pd.read_excel(\"erp.xlsx\")\n",
        "df_liaison = pd.read_excel(\"liaison.xlsx\")\n",
        "df_web = pd.read_excel(\"web.xlsx\")"
      ],
      "metadata": {
        "colab": {
          "base_uri": "https://localhost:8080/"
        },
        "id": "LGGkJyQgd2Vc",
        "outputId": "6262fd86-1c9c-46ff-9af0-474af91c30f8"
      },
      "execution_count": 2,
      "outputs": [
        {
          "output_type": "stream",
          "name": "stdout",
          "text": [
            "fatal: destination path 'cloned-repo' already exists and is not an empty directory.\n",
            "/content/cloned-repo\n",
            "cloned-repo\t\t\t\t  erp.xlsx\tweb.xlsx\n",
            "Data_management_of_an_online_store.ipynb  liaison.xlsx\n"
          ]
        }
      ]
    },
    {
      "cell_type": "markdown",
      "source": [
        "---\n",
        "> ### Traitement des DATA\n",
        "---\n",
        "\n",
        "\n"
      ],
      "metadata": {
        "id": "gWgr8IqLtxSJ"
      }
    },
    {
      "cell_type": "code",
      "source": [
        "# Traitement des données web inutiles\n",
        "df_web = df_web.drop([\"virtual\",\"downloadable\",\"rating_count\",\"average_rating\",\"tax_class\",\"post_content\",\"comment_status\",\"ping_status\",\"post_password\",\"post_content_filtered\",\"post_parent\",\"menu_order\",\"comment_count\"], axis = 1)\n",
        "# Remplacement des données NaN dans df_web.total_sales\n",
        "df_web.total_sales = df_web.total_sales.fillna(0)\n",
        "# Remplacement des données tax_status ➡️ taxable = 1 et Nan = 0\n",
        "df_web.tax_status = df_web.tax_status.fillna(0)\n",
        "df_web.tax_status = df_web.tax_status.replace(\"taxable\",1)"
      ],
      "metadata": {
        "id": "THwlX1u91f2t"
      },
      "execution_count": 3,
      "outputs": []
    },
    {
      "cell_type": "markdown",
      "source": [
        "---\n",
        "> ### Lexique des données\n",
        "---\n",
        "\n",
        "\n",
        "\n"
      ],
      "metadata": {
        "id": "oG89DAzeosCW"
      }
    },
    {
      "cell_type": "markdown",
      "source": [
        "#### df_erp\n",
        "\n",
        "| Variable | Description | Type | PK |\n",
        "| :--------------- |:---------------| :-----| :---|\n",
        "| product_id | références produit | int | ✅ |\n",
        "| onsale_web | vendu en ligne | boolean ||\n",
        "| price | prix de vente | float ||\n",
        "| stock_quantity | quantité dans le stock | int ||\n",
        "|stock_status | État de stock | str ||\n",
        "\n",
        "#### df_web\n",
        "\n",
        "| Variable | Description | Type | PK |\n",
        "| :--------------- |:---------------| :-----| :---|\n",
        "| sku | références produit | int | ✅ |\n",
        "| total_sales | nombre de vente | Int ||\n",
        "| tax_status | produit taxable ou non | Boolean ||\n",
        "| post_author | auteur de l'article | int ||\n",
        "| post_date | Date de publication | date ||\n",
        "| post_date_gmt | Date de publication h GMT| date ||\n",
        "| post_title | titre de l'article | str ||\n",
        "| post_excerpt | description de l'article | str ||\n",
        "| post_status | statut de l'article | str ||\n",
        "| post_name | Nom de l'article | str ||\n",
        "| post_modified | Date dernière MAJ | date ||\n",
        "| post_modified_gmt | Date dernière MAJ h GMT | date ||\n",
        "| guid | lien | str ||\n",
        "| post_type | type de l'article | str ||\n",
        "| post_mime_type | Chemin de l'image | str ||"
      ],
      "metadata": {
        "id": "mf8VrEjXyfDT"
      }
    },
    {
      "cell_type": "markdown",
      "source": [
        "---\n",
        "> ### Mission\n",
        "---"
      ],
      "metadata": {
        "id": "Png2fUGNzHuh"
      }
    },
    {
      "cell_type": "markdown",
      "source": [
        "Ta première mission se passe en 3 points.\n",
        "\n",
        "Premièrement, j’ai besoin que tu rapproches deux exports : un export de l’ERP et un export d’une table de l’outil de CMS contenant les informations des produits commercialisés en ligne (nom, description, nombre de ventes...).\n",
        "\n",
        "L’export issu de la boutique en ligne contient le nombre de ventes pour chaque produit depuis sa mise en ligne, il ne permet pas d’analyser l'évolution des ventes dans le temps.\n",
        "\n",
        "Je vais t’envoyer un mail dès la fin de notre entretien avec ces 2 exports en pièce jointe.\n",
        "\n",
        "En plus de ces 2 exports, tu vas bénéficier d’une aide précieuse car Sylvie, notre ancienne stagiaire, a réalisé un travail de fourmi. Elle a créé un tableau Excel qui permet d’établir le lien entre la référence du produit dans l’ERP (product_id) et la référence du même produit dans la base de la boutique en ligne (SKU). \n",
        "\n",
        "Deuxièmement, une fois le rapprochement effectué, je souhaiterais avoir le chiffre d’affaires par produit, ainsi que le total du chiffre d’affaires réalisé en ligne.\n",
        "\n",
        "Troisièmement et pour finir, je me demande s’il n’y a pas eu des erreurs de saisie dans certains prix des produits. J'aimerais que tu effectues une analyse sur cette variable afin de détecter d’éventuelles valeurs aberrantes, de les lister et d’en faire une représentation graphique pour plus de lisibilité.\n",
        "\n",
        "Nous voudrions présenter tes résultats lors de la prochaine réunion de COPIL. Cela permettrait de montrer nos progrès. Je peux t’épargner le travail d’une présentation par slides, il me faut juste un notebook que tu présenteras à l’assemblée pour expliquer ta démarche. Tu peux utiliser R ou Python comme tu préfères, nous n'avons pas de préférence de notre côté."
      ],
      "metadata": {
        "id": "zVQGfyVrRI86"
      }
    },
    {
      "cell_type": "markdown",
      "source": [
        "---\n",
        "> ### Calcul\n",
        "---"
      ],
      "metadata": {
        "id": "yjP90-Fe0RPf"
      }
    },
    {
      "cell_type": "code",
      "source": [
        ""
      ],
      "metadata": {
        "id": "VpQfY-tkWMYh"
      },
      "execution_count": 3,
      "outputs": []
    },
    {
      "cell_type": "code",
      "source": [
        ""
      ],
      "metadata": {
        "id": "nGntr2d-xQYs"
      },
      "execution_count": 3,
      "outputs": []
    }
  ]
}